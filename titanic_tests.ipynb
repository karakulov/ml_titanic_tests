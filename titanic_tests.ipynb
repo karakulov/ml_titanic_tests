{
 "cells": [
  {
   "cell_type": "markdown",
   "metadata": {},
   "source": [
    "# Тестирование алгоритмов классификации на датасете Титаник"
   ]
  },
  {
   "cell_type": "markdown",
   "metadata": {},
   "source": [
    "Суть этого ноутбука - протестировать различные подходы к анализу данных, используя различные модели и методы бинарной классификации"
   ]
  },
  {
   "cell_type": "markdown",
   "metadata": {},
   "source": [
    "## Инициализация"
   ]
  },
  {
   "cell_type": "markdown",
   "metadata": {},
   "source": [
    "### Импорт библиотек"
   ]
  },
  {
   "cell_type": "code",
   "execution_count": 3,
   "metadata": {},
   "outputs": [],
   "source": [
    "import pickle\n",
    "\n",
    "import pandas as pd\n",
    "\n",
    "from sklearn.model_selection import train_test_split, cross_val_score, GridSearchCV\n",
    "from sklearn.metrics import accuracy_score, f1_score, roc_auc_score\n",
    "\n",
    "from sklearn.neighbors import KNeighborsClassifier\n",
    "from sklearn.naive_bayes import CategoricalNB\n",
    "from sklearn.svm import SVC\n",
    "from sklearn.tree import DecisionTreeClassifier\n",
    "from sklearn.ensemble import RandomForestClassifier\n",
    "\n",
    "import numpy as np"
   ]
  },
  {
   "cell_type": "markdown",
   "metadata": {},
   "source": [
    "### Подгрузка датасета"
   ]
  },
  {
   "cell_type": "code",
   "execution_count": 3,
   "metadata": {},
   "outputs": [],
   "source": [
    "df = pd.read_csv('titanic_train.csv', index_col='PassengerId')"
   ]
  },
  {
   "cell_type": "markdown",
   "metadata": {},
   "source": [
    "## Описательный анализ датасета"
   ]
  },
  {
   "cell_type": "code",
   "execution_count": 4,
   "metadata": {},
   "outputs": [
    {
     "name": "stdout",
     "output_type": "stream",
     "text": [
      "<class 'pandas.core.frame.DataFrame'>\n",
      "Int64Index: 891 entries, 1 to 891\n",
      "Data columns (total 11 columns):\n",
      " #   Column    Non-Null Count  Dtype  \n",
      "---  ------    --------------  -----  \n",
      " 0   Survived  891 non-null    int64  \n",
      " 1   Pclass    891 non-null    int64  \n",
      " 2   Name      891 non-null    object \n",
      " 3   Sex       891 non-null    object \n",
      " 4   Age       714 non-null    float64\n",
      " 5   SibSp     891 non-null    int64  \n",
      " 6   Parch     891 non-null    int64  \n",
      " 7   Ticket    891 non-null    object \n",
      " 8   Fare      891 non-null    float64\n",
      " 9   Cabin     204 non-null    object \n",
      " 10  Embarked  889 non-null    object \n",
      "dtypes: float64(2), int64(4), object(5)\n",
      "memory usage: 83.5+ KB\n"
     ]
    }
   ],
   "source": [
    "df.info()"
   ]
  },
  {
   "cell_type": "code",
   "execution_count": 5,
   "metadata": {},
   "outputs": [
    {
     "data": {
      "text/html": [
       "<div>\n",
       "<style scoped>\n",
       "    .dataframe tbody tr th:only-of-type {\n",
       "        vertical-align: middle;\n",
       "    }\n",
       "\n",
       "    .dataframe tbody tr th {\n",
       "        vertical-align: top;\n",
       "    }\n",
       "\n",
       "    .dataframe thead th {\n",
       "        text-align: right;\n",
       "    }\n",
       "</style>\n",
       "<table border=\"1\" class=\"dataframe\">\n",
       "  <thead>\n",
       "    <tr style=\"text-align: right;\">\n",
       "      <th></th>\n",
       "      <th>Survived</th>\n",
       "      <th>Pclass</th>\n",
       "      <th>Age</th>\n",
       "      <th>SibSp</th>\n",
       "      <th>Parch</th>\n",
       "      <th>Fare</th>\n",
       "    </tr>\n",
       "  </thead>\n",
       "  <tbody>\n",
       "    <tr>\n",
       "      <th>count</th>\n",
       "      <td>891.000000</td>\n",
       "      <td>891.000000</td>\n",
       "      <td>714.000000</td>\n",
       "      <td>891.000000</td>\n",
       "      <td>891.000000</td>\n",
       "      <td>891.000000</td>\n",
       "    </tr>\n",
       "    <tr>\n",
       "      <th>mean</th>\n",
       "      <td>0.383838</td>\n",
       "      <td>2.308642</td>\n",
       "      <td>29.699118</td>\n",
       "      <td>0.523008</td>\n",
       "      <td>0.381594</td>\n",
       "      <td>32.204208</td>\n",
       "    </tr>\n",
       "    <tr>\n",
       "      <th>std</th>\n",
       "      <td>0.486592</td>\n",
       "      <td>0.836071</td>\n",
       "      <td>14.526497</td>\n",
       "      <td>1.102743</td>\n",
       "      <td>0.806057</td>\n",
       "      <td>49.693429</td>\n",
       "    </tr>\n",
       "    <tr>\n",
       "      <th>min</th>\n",
       "      <td>0.000000</td>\n",
       "      <td>1.000000</td>\n",
       "      <td>0.420000</td>\n",
       "      <td>0.000000</td>\n",
       "      <td>0.000000</td>\n",
       "      <td>0.000000</td>\n",
       "    </tr>\n",
       "    <tr>\n",
       "      <th>25%</th>\n",
       "      <td>0.000000</td>\n",
       "      <td>2.000000</td>\n",
       "      <td>20.125000</td>\n",
       "      <td>0.000000</td>\n",
       "      <td>0.000000</td>\n",
       "      <td>7.910400</td>\n",
       "    </tr>\n",
       "    <tr>\n",
       "      <th>50%</th>\n",
       "      <td>0.000000</td>\n",
       "      <td>3.000000</td>\n",
       "      <td>28.000000</td>\n",
       "      <td>0.000000</td>\n",
       "      <td>0.000000</td>\n",
       "      <td>14.454200</td>\n",
       "    </tr>\n",
       "    <tr>\n",
       "      <th>75%</th>\n",
       "      <td>1.000000</td>\n",
       "      <td>3.000000</td>\n",
       "      <td>38.000000</td>\n",
       "      <td>1.000000</td>\n",
       "      <td>0.000000</td>\n",
       "      <td>31.000000</td>\n",
       "    </tr>\n",
       "    <tr>\n",
       "      <th>max</th>\n",
       "      <td>1.000000</td>\n",
       "      <td>3.000000</td>\n",
       "      <td>80.000000</td>\n",
       "      <td>8.000000</td>\n",
       "      <td>6.000000</td>\n",
       "      <td>512.329200</td>\n",
       "    </tr>\n",
       "  </tbody>\n",
       "</table>\n",
       "</div>"
      ],
      "text/plain": [
       "         Survived      Pclass         Age       SibSp       Parch        Fare\n",
       "count  891.000000  891.000000  714.000000  891.000000  891.000000  891.000000\n",
       "mean     0.383838    2.308642   29.699118    0.523008    0.381594   32.204208\n",
       "std      0.486592    0.836071   14.526497    1.102743    0.806057   49.693429\n",
       "min      0.000000    1.000000    0.420000    0.000000    0.000000    0.000000\n",
       "25%      0.000000    2.000000   20.125000    0.000000    0.000000    7.910400\n",
       "50%      0.000000    3.000000   28.000000    0.000000    0.000000   14.454200\n",
       "75%      1.000000    3.000000   38.000000    1.000000    0.000000   31.000000\n",
       "max      1.000000    3.000000   80.000000    8.000000    6.000000  512.329200"
      ]
     },
     "execution_count": 5,
     "metadata": {},
     "output_type": "execute_result"
    }
   ],
   "source": [
    "df.describe()"
   ]
  },
  {
   "cell_type": "code",
   "execution_count": 6,
   "metadata": {},
   "outputs": [
    {
     "data": {
      "text/html": [
       "<div>\n",
       "<style scoped>\n",
       "    .dataframe tbody tr th:only-of-type {\n",
       "        vertical-align: middle;\n",
       "    }\n",
       "\n",
       "    .dataframe tbody tr th {\n",
       "        vertical-align: top;\n",
       "    }\n",
       "\n",
       "    .dataframe thead th {\n",
       "        text-align: right;\n",
       "    }\n",
       "</style>\n",
       "<table border=\"1\" class=\"dataframe\">\n",
       "  <thead>\n",
       "    <tr style=\"text-align: right;\">\n",
       "      <th></th>\n",
       "      <th>Survived</th>\n",
       "      <th>Pclass</th>\n",
       "      <th>Name</th>\n",
       "      <th>Sex</th>\n",
       "      <th>Age</th>\n",
       "      <th>SibSp</th>\n",
       "      <th>Parch</th>\n",
       "      <th>Ticket</th>\n",
       "      <th>Fare</th>\n",
       "      <th>Cabin</th>\n",
       "      <th>Embarked</th>\n",
       "    </tr>\n",
       "    <tr>\n",
       "      <th>PassengerId</th>\n",
       "      <th></th>\n",
       "      <th></th>\n",
       "      <th></th>\n",
       "      <th></th>\n",
       "      <th></th>\n",
       "      <th></th>\n",
       "      <th></th>\n",
       "      <th></th>\n",
       "      <th></th>\n",
       "      <th></th>\n",
       "      <th></th>\n",
       "    </tr>\n",
       "  </thead>\n",
       "  <tbody>\n",
       "    <tr>\n",
       "      <th>1</th>\n",
       "      <td>0</td>\n",
       "      <td>3</td>\n",
       "      <td>Braund, Mr. Owen Harris</td>\n",
       "      <td>male</td>\n",
       "      <td>22.0</td>\n",
       "      <td>1</td>\n",
       "      <td>0</td>\n",
       "      <td>A/5 21171</td>\n",
       "      <td>7.2500</td>\n",
       "      <td>NaN</td>\n",
       "      <td>S</td>\n",
       "    </tr>\n",
       "    <tr>\n",
       "      <th>2</th>\n",
       "      <td>1</td>\n",
       "      <td>1</td>\n",
       "      <td>Cumings, Mrs. John Bradley (Florence Briggs Th...</td>\n",
       "      <td>female</td>\n",
       "      <td>38.0</td>\n",
       "      <td>1</td>\n",
       "      <td>0</td>\n",
       "      <td>PC 17599</td>\n",
       "      <td>71.2833</td>\n",
       "      <td>C85</td>\n",
       "      <td>C</td>\n",
       "    </tr>\n",
       "    <tr>\n",
       "      <th>3</th>\n",
       "      <td>1</td>\n",
       "      <td>3</td>\n",
       "      <td>Heikkinen, Miss. Laina</td>\n",
       "      <td>female</td>\n",
       "      <td>26.0</td>\n",
       "      <td>0</td>\n",
       "      <td>0</td>\n",
       "      <td>STON/O2. 3101282</td>\n",
       "      <td>7.9250</td>\n",
       "      <td>NaN</td>\n",
       "      <td>S</td>\n",
       "    </tr>\n",
       "    <tr>\n",
       "      <th>4</th>\n",
       "      <td>1</td>\n",
       "      <td>1</td>\n",
       "      <td>Futrelle, Mrs. Jacques Heath (Lily May Peel)</td>\n",
       "      <td>female</td>\n",
       "      <td>35.0</td>\n",
       "      <td>1</td>\n",
       "      <td>0</td>\n",
       "      <td>113803</td>\n",
       "      <td>53.1000</td>\n",
       "      <td>C123</td>\n",
       "      <td>S</td>\n",
       "    </tr>\n",
       "    <tr>\n",
       "      <th>5</th>\n",
       "      <td>0</td>\n",
       "      <td>3</td>\n",
       "      <td>Allen, Mr. William Henry</td>\n",
       "      <td>male</td>\n",
       "      <td>35.0</td>\n",
       "      <td>0</td>\n",
       "      <td>0</td>\n",
       "      <td>373450</td>\n",
       "      <td>8.0500</td>\n",
       "      <td>NaN</td>\n",
       "      <td>S</td>\n",
       "    </tr>\n",
       "    <tr>\n",
       "      <th>6</th>\n",
       "      <td>0</td>\n",
       "      <td>3</td>\n",
       "      <td>Moran, Mr. James</td>\n",
       "      <td>male</td>\n",
       "      <td>NaN</td>\n",
       "      <td>0</td>\n",
       "      <td>0</td>\n",
       "      <td>330877</td>\n",
       "      <td>8.4583</td>\n",
       "      <td>NaN</td>\n",
       "      <td>Q</td>\n",
       "    </tr>\n",
       "    <tr>\n",
       "      <th>7</th>\n",
       "      <td>0</td>\n",
       "      <td>1</td>\n",
       "      <td>McCarthy, Mr. Timothy J</td>\n",
       "      <td>male</td>\n",
       "      <td>54.0</td>\n",
       "      <td>0</td>\n",
       "      <td>0</td>\n",
       "      <td>17463</td>\n",
       "      <td>51.8625</td>\n",
       "      <td>E46</td>\n",
       "      <td>S</td>\n",
       "    </tr>\n",
       "    <tr>\n",
       "      <th>8</th>\n",
       "      <td>0</td>\n",
       "      <td>3</td>\n",
       "      <td>Palsson, Master. Gosta Leonard</td>\n",
       "      <td>male</td>\n",
       "      <td>2.0</td>\n",
       "      <td>3</td>\n",
       "      <td>1</td>\n",
       "      <td>349909</td>\n",
       "      <td>21.0750</td>\n",
       "      <td>NaN</td>\n",
       "      <td>S</td>\n",
       "    </tr>\n",
       "    <tr>\n",
       "      <th>9</th>\n",
       "      <td>1</td>\n",
       "      <td>3</td>\n",
       "      <td>Johnson, Mrs. Oscar W (Elisabeth Vilhelmina Berg)</td>\n",
       "      <td>female</td>\n",
       "      <td>27.0</td>\n",
       "      <td>0</td>\n",
       "      <td>2</td>\n",
       "      <td>347742</td>\n",
       "      <td>11.1333</td>\n",
       "      <td>NaN</td>\n",
       "      <td>S</td>\n",
       "    </tr>\n",
       "    <tr>\n",
       "      <th>10</th>\n",
       "      <td>1</td>\n",
       "      <td>2</td>\n",
       "      <td>Nasser, Mrs. Nicholas (Adele Achem)</td>\n",
       "      <td>female</td>\n",
       "      <td>14.0</td>\n",
       "      <td>1</td>\n",
       "      <td>0</td>\n",
       "      <td>237736</td>\n",
       "      <td>30.0708</td>\n",
       "      <td>NaN</td>\n",
       "      <td>C</td>\n",
       "    </tr>\n",
       "    <tr>\n",
       "      <th>11</th>\n",
       "      <td>1</td>\n",
       "      <td>3</td>\n",
       "      <td>Sandstrom, Miss. Marguerite Rut</td>\n",
       "      <td>female</td>\n",
       "      <td>4.0</td>\n",
       "      <td>1</td>\n",
       "      <td>1</td>\n",
       "      <td>PP 9549</td>\n",
       "      <td>16.7000</td>\n",
       "      <td>G6</td>\n",
       "      <td>S</td>\n",
       "    </tr>\n",
       "    <tr>\n",
       "      <th>12</th>\n",
       "      <td>1</td>\n",
       "      <td>1</td>\n",
       "      <td>Bonnell, Miss. Elizabeth</td>\n",
       "      <td>female</td>\n",
       "      <td>58.0</td>\n",
       "      <td>0</td>\n",
       "      <td>0</td>\n",
       "      <td>113783</td>\n",
       "      <td>26.5500</td>\n",
       "      <td>C103</td>\n",
       "      <td>S</td>\n",
       "    </tr>\n",
       "    <tr>\n",
       "      <th>13</th>\n",
       "      <td>0</td>\n",
       "      <td>3</td>\n",
       "      <td>Saundercock, Mr. William Henry</td>\n",
       "      <td>male</td>\n",
       "      <td>20.0</td>\n",
       "      <td>0</td>\n",
       "      <td>0</td>\n",
       "      <td>A/5. 2151</td>\n",
       "      <td>8.0500</td>\n",
       "      <td>NaN</td>\n",
       "      <td>S</td>\n",
       "    </tr>\n",
       "    <tr>\n",
       "      <th>14</th>\n",
       "      <td>0</td>\n",
       "      <td>3</td>\n",
       "      <td>Andersson, Mr. Anders Johan</td>\n",
       "      <td>male</td>\n",
       "      <td>39.0</td>\n",
       "      <td>1</td>\n",
       "      <td>5</td>\n",
       "      <td>347082</td>\n",
       "      <td>31.2750</td>\n",
       "      <td>NaN</td>\n",
       "      <td>S</td>\n",
       "    </tr>\n",
       "    <tr>\n",
       "      <th>15</th>\n",
       "      <td>0</td>\n",
       "      <td>3</td>\n",
       "      <td>Vestrom, Miss. Hulda Amanda Adolfina</td>\n",
       "      <td>female</td>\n",
       "      <td>14.0</td>\n",
       "      <td>0</td>\n",
       "      <td>0</td>\n",
       "      <td>350406</td>\n",
       "      <td>7.8542</td>\n",
       "      <td>NaN</td>\n",
       "      <td>S</td>\n",
       "    </tr>\n",
       "  </tbody>\n",
       "</table>\n",
       "</div>"
      ],
      "text/plain": [
       "             Survived  Pclass  \\\n",
       "PassengerId                     \n",
       "1                   0       3   \n",
       "2                   1       1   \n",
       "3                   1       3   \n",
       "4                   1       1   \n",
       "5                   0       3   \n",
       "6                   0       3   \n",
       "7                   0       1   \n",
       "8                   0       3   \n",
       "9                   1       3   \n",
       "10                  1       2   \n",
       "11                  1       3   \n",
       "12                  1       1   \n",
       "13                  0       3   \n",
       "14                  0       3   \n",
       "15                  0       3   \n",
       "\n",
       "                                                          Name     Sex   Age  \\\n",
       "PassengerId                                                                    \n",
       "1                                      Braund, Mr. Owen Harris    male  22.0   \n",
       "2            Cumings, Mrs. John Bradley (Florence Briggs Th...  female  38.0   \n",
       "3                                       Heikkinen, Miss. Laina  female  26.0   \n",
       "4                 Futrelle, Mrs. Jacques Heath (Lily May Peel)  female  35.0   \n",
       "5                                     Allen, Mr. William Henry    male  35.0   \n",
       "6                                             Moran, Mr. James    male   NaN   \n",
       "7                                      McCarthy, Mr. Timothy J    male  54.0   \n",
       "8                               Palsson, Master. Gosta Leonard    male   2.0   \n",
       "9            Johnson, Mrs. Oscar W (Elisabeth Vilhelmina Berg)  female  27.0   \n",
       "10                         Nasser, Mrs. Nicholas (Adele Achem)  female  14.0   \n",
       "11                             Sandstrom, Miss. Marguerite Rut  female   4.0   \n",
       "12                                    Bonnell, Miss. Elizabeth  female  58.0   \n",
       "13                              Saundercock, Mr. William Henry    male  20.0   \n",
       "14                                 Andersson, Mr. Anders Johan    male  39.0   \n",
       "15                        Vestrom, Miss. Hulda Amanda Adolfina  female  14.0   \n",
       "\n",
       "             SibSp  Parch            Ticket     Fare Cabin Embarked  \n",
       "PassengerId                                                          \n",
       "1                1      0         A/5 21171   7.2500   NaN        S  \n",
       "2                1      0          PC 17599  71.2833   C85        C  \n",
       "3                0      0  STON/O2. 3101282   7.9250   NaN        S  \n",
       "4                1      0            113803  53.1000  C123        S  \n",
       "5                0      0            373450   8.0500   NaN        S  \n",
       "6                0      0            330877   8.4583   NaN        Q  \n",
       "7                0      0             17463  51.8625   E46        S  \n",
       "8                3      1            349909  21.0750   NaN        S  \n",
       "9                0      2            347742  11.1333   NaN        S  \n",
       "10               1      0            237736  30.0708   NaN        C  \n",
       "11               1      1           PP 9549  16.7000    G6        S  \n",
       "12               0      0            113783  26.5500  C103        S  \n",
       "13               0      0         A/5. 2151   8.0500   NaN        S  \n",
       "14               1      5            347082  31.2750   NaN        S  \n",
       "15               0      0            350406   7.8542   NaN        S  "
      ]
     },
     "execution_count": 6,
     "metadata": {},
     "output_type": "execute_result"
    }
   ],
   "source": [
    "df.head(15)"
   ]
  },
  {
   "cell_type": "code",
   "execution_count": 7,
   "metadata": {},
   "outputs": [
    {
     "data": {
      "text/plain": [
       "Survived      0\n",
       "Pclass        0\n",
       "Name          0\n",
       "Sex           0\n",
       "Age         177\n",
       "SibSp         0\n",
       "Parch         0\n",
       "Ticket        0\n",
       "Fare          0\n",
       "Cabin       687\n",
       "Embarked      2\n",
       "dtype: int64"
      ]
     },
     "execution_count": 7,
     "metadata": {},
     "output_type": "execute_result"
    }
   ],
   "source": [
    "df.isna().sum()"
   ]
  },
  {
   "cell_type": "markdown",
   "metadata": {},
   "source": [
    "## Подготовка данных для ML"
   ]
  },
  {
   "cell_type": "markdown",
   "metadata": {},
   "source": [
    "* Удалить лишние колонки\n",
    "* Проверить таблицу на пропуски в данных и сделать так, чтоб их небыло\n",
    "* Выполнить подготовку сета, к дальнейшему ML"
   ]
  },
  {
   "cell_type": "markdown",
   "metadata": {},
   "source": [
    "### Удаление лишних колонок"
   ]
  },
  {
   "cell_type": "markdown",
   "metadata": {},
   "source": [
    "**Embarked** - Порты посадки пассажиров:\n",
    "* S - Southampton\n",
    "* C - Cherbourg\n",
    "* Q - Queenstown"
   ]
  },
  {
   "cell_type": "markdown",
   "metadata": {},
   "source": [
    "**SibSp** — количество братьев, сестер, сводных братьев, сводных сестер, супругов на борту титаника\n",
    "\n",
    "**Parch** — количество родителей, детей (в том числе приемных) на борту титаника\n",
    "\n",
    "**Целевая колонка: Survived**\n",
    "\n",
    "**Категориальные признаки:**\n",
    "* Pclass - класс палубы\n",
    "* Sex - пол пассажира"
   ]
  },
  {
   "cell_type": "code",
   "execution_count": 8,
   "metadata": {},
   "outputs": [],
   "source": [
    "#df.drop(['Name', 'Ticket', 'Cabin', 'Embarked', 'Fare'], axis=1, inplace=True)"
   ]
  },
  {
   "cell_type": "code",
   "execution_count": 9,
   "metadata": {},
   "outputs": [],
   "source": [
    "df.drop(['Name', 'Ticket', 'Cabin'], axis=1, inplace=True)"
   ]
  },
  {
   "cell_type": "code",
   "execution_count": 10,
   "metadata": {},
   "outputs": [],
   "source": [
    "df.loc[ df.Age.isna(), 'Age' ] = df.Age.mean()"
   ]
  },
  {
   "cell_type": "code",
   "execution_count": 11,
   "metadata": {},
   "outputs": [],
   "source": [
    "df.dropna(inplace=True)"
   ]
  },
  {
   "cell_type": "code",
   "execution_count": 12,
   "metadata": {
    "scrolled": true
   },
   "outputs": [
    {
     "data": {
      "text/html": [
       "<div>\n",
       "<style scoped>\n",
       "    .dataframe tbody tr th:only-of-type {\n",
       "        vertical-align: middle;\n",
       "    }\n",
       "\n",
       "    .dataframe tbody tr th {\n",
       "        vertical-align: top;\n",
       "    }\n",
       "\n",
       "    .dataframe thead th {\n",
       "        text-align: right;\n",
       "    }\n",
       "</style>\n",
       "<table border=\"1\" class=\"dataframe\">\n",
       "  <thead>\n",
       "    <tr style=\"text-align: right;\">\n",
       "      <th></th>\n",
       "      <th>Survived</th>\n",
       "      <th>Pclass</th>\n",
       "      <th>Sex</th>\n",
       "      <th>Age</th>\n",
       "      <th>SibSp</th>\n",
       "      <th>Parch</th>\n",
       "      <th>Fare</th>\n",
       "      <th>Embarked</th>\n",
       "    </tr>\n",
       "    <tr>\n",
       "      <th>PassengerId</th>\n",
       "      <th></th>\n",
       "      <th></th>\n",
       "      <th></th>\n",
       "      <th></th>\n",
       "      <th></th>\n",
       "      <th></th>\n",
       "      <th></th>\n",
       "      <th></th>\n",
       "    </tr>\n",
       "  </thead>\n",
       "  <tbody>\n",
       "    <tr>\n",
       "      <th>1</th>\n",
       "      <td>0</td>\n",
       "      <td>3</td>\n",
       "      <td>male</td>\n",
       "      <td>22.0</td>\n",
       "      <td>1</td>\n",
       "      <td>0</td>\n",
       "      <td>7.2500</td>\n",
       "      <td>S</td>\n",
       "    </tr>\n",
       "    <tr>\n",
       "      <th>2</th>\n",
       "      <td>1</td>\n",
       "      <td>1</td>\n",
       "      <td>female</td>\n",
       "      <td>38.0</td>\n",
       "      <td>1</td>\n",
       "      <td>0</td>\n",
       "      <td>71.2833</td>\n",
       "      <td>C</td>\n",
       "    </tr>\n",
       "    <tr>\n",
       "      <th>3</th>\n",
       "      <td>1</td>\n",
       "      <td>3</td>\n",
       "      <td>female</td>\n",
       "      <td>26.0</td>\n",
       "      <td>0</td>\n",
       "      <td>0</td>\n",
       "      <td>7.9250</td>\n",
       "      <td>S</td>\n",
       "    </tr>\n",
       "    <tr>\n",
       "      <th>4</th>\n",
       "      <td>1</td>\n",
       "      <td>1</td>\n",
       "      <td>female</td>\n",
       "      <td>35.0</td>\n",
       "      <td>1</td>\n",
       "      <td>0</td>\n",
       "      <td>53.1000</td>\n",
       "      <td>S</td>\n",
       "    </tr>\n",
       "    <tr>\n",
       "      <th>5</th>\n",
       "      <td>0</td>\n",
       "      <td>3</td>\n",
       "      <td>male</td>\n",
       "      <td>35.0</td>\n",
       "      <td>0</td>\n",
       "      <td>0</td>\n",
       "      <td>8.0500</td>\n",
       "      <td>S</td>\n",
       "    </tr>\n",
       "  </tbody>\n",
       "</table>\n",
       "</div>"
      ],
      "text/plain": [
       "             Survived  Pclass     Sex   Age  SibSp  Parch     Fare Embarked\n",
       "PassengerId                                                                \n",
       "1                   0       3    male  22.0      1      0   7.2500        S\n",
       "2                   1       1  female  38.0      1      0  71.2833        C\n",
       "3                   1       3  female  26.0      0      0   7.9250        S\n",
       "4                   1       1  female  35.0      1      0  53.1000        S\n",
       "5                   0       3    male  35.0      0      0   8.0500        S"
      ]
     },
     "execution_count": 12,
     "metadata": {},
     "output_type": "execute_result"
    }
   ],
   "source": [
    "df.head()"
   ]
  },
  {
   "cell_type": "markdown",
   "metadata": {},
   "source": [
    "## ML"
   ]
  },
  {
   "cell_type": "markdown",
   "metadata": {},
   "source": [
    "Для категориальных фичей использую Hot One Encoding, так как их последовательность считаю математически не связанной (0<1<2) и их необходимо представлять в виде бинарных категорий"
   ]
  },
  {
   "cell_type": "markdown",
   "metadata": {},
   "source": [
    "Далее идут функции тестирования для алгоритмов классификаций kNN, Decision Trees, Random Forest, SVM, Алгоритм Байеса.\n",
    "\n",
    "Каждая функция принимает X, y; \n",
    "\n",
    "после:\n",
    "* самостоятельно делит на train и тестовую выборки\n",
    "* проводит тестирование лучших аргументов посредством сетки параметров (кроме Байеса, он падает с ошибкой, поэтому он \"из коробки\")\n",
    "* возвращает скоринги F1, Accurency, ROC AUC\n",
    "* возвращает лучшие найденные аргументы для алгоритма\n",
    "\n",
    "Непосредственно отбор лучшего решения происходит по скорингу F1, так как считаю его наиболее показательным (он учитывает TP/TN/FP/FN)\n"
   ]
  },
  {
   "cell_type": "markdown",
   "metadata": {},
   "source": [
    "### kNN"
   ]
  },
  {
   "cell_type": "code",
   "execution_count": 13,
   "metadata": {},
   "outputs": [],
   "source": [
    "def knn_test(X, y, cv=5, scoring='f1'):\n",
    "    X_train, X_test, y_train, y_test = train_test_split(X, y, test_size=0.25, random_state=np.random.randint(10, 10**4))\n",
    "    \n",
    "    gs = GridSearchCV(KNeighborsClassifier(), {\n",
    "        'n_neighbors': range(1,20),\n",
    "        'weights':['uniform', 'distance'],\n",
    "        'algorithm':['auto'],\n",
    "        'metric': ['euclidean', 'manhattan', 'minkowski', 'chebyshev'],\n",
    "    }, scoring=scoring, cv=cv)\n",
    "    gs.fit(X_train, y_train)\n",
    "\n",
    "    y_pred = gs.predict(X_test)\n",
    "    \n",
    "    accuracy = round(accuracy_score(y_test, y_pred) * 100)\n",
    "    f1 = round(f1_score(y_test, y_pred) * 100)\n",
    "    auc_s = round(roc_auc_score(y_test, y_pred) * 100)\n",
    "    \n",
    "    return (accuracy, f1, auc_s, gs.best_params_)"
   ]
  },
  {
   "cell_type": "markdown",
   "metadata": {},
   "source": [
    "### Decision Trees"
   ]
  },
  {
   "cell_type": "code",
   "execution_count": 14,
   "metadata": {},
   "outputs": [],
   "source": [
    "def dt_test(X, y, cv=5, scoring='f1'):\n",
    "    X_train, X_test, y_train, y_test = train_test_split(X, y, test_size=0.25, random_state=np.random.randint(10, 10**4))\n",
    "    \n",
    "    gs = GridSearchCV(DecisionTreeClassifier(), {\n",
    "       'criterion': ['gini', 'entropy'],\n",
    "        'splitter': ['best', 'random'],\n",
    "        'min_samples_split': range(2,5)\n",
    "    }, scoring=scoring, cv=cv)\n",
    "    gs.fit(X_train, y_train)\n",
    "\n",
    "    y_pred = gs.predict(X_test)\n",
    "    \n",
    "    accuracy = round(accuracy_score(y_test, y_pred) * 100)\n",
    "    f1 = round(f1_score(y_test, y_pred) * 100)\n",
    "    auc_s = round(roc_auc_score(y_test, y_pred) * 100)\n",
    "    \n",
    "    return (accuracy, f1, auc_s, gs.best_params_)"
   ]
  },
  {
   "cell_type": "markdown",
   "metadata": {},
   "source": [
    "### Random Forest"
   ]
  },
  {
   "cell_type": "code",
   "execution_count": 15,
   "metadata": {},
   "outputs": [],
   "source": [
    "def rf_test(X, y, cv=5, scoring='f1'):\n",
    "    X_train, X_test, y_train, y_test = train_test_split(X, y, test_size=0.25, random_state=np.random.randint(10, 10**4))\n",
    "    \n",
    "    gs = GridSearchCV(RandomForestClassifier(), {\n",
    "       'n_estimators': [100,200,300,400,500],\n",
    "        'criterion': ['gini', 'entropy'],\n",
    "        'min_samples_split': range(2,11)\n",
    "    }, scoring=scoring, cv=cv)\n",
    "    gs.fit(X_train, y_train)\n",
    "\n",
    "    y_pred = gs.predict(X_test)\n",
    "    \n",
    "    accuracy = round(accuracy_score(y_test, y_pred) * 100)\n",
    "    f1 = round(f1_score(y_test, y_pred) * 100)\n",
    "    auc_s = round(roc_auc_score(y_test, y_pred) * 100)\n",
    "    \n",
    "    return (accuracy, f1, auc_s, gs.best_params_)"
   ]
  },
  {
   "cell_type": "markdown",
   "metadata": {},
   "source": [
    "### SVM"
   ]
  },
  {
   "cell_type": "code",
   "execution_count": 16,
   "metadata": {},
   "outputs": [],
   "source": [
    "def svm_test(X, y, cv=5, scoring='f1'):\n",
    "    X_train, X_test, y_train, y_test = train_test_split(X, y, test_size=0.25, random_state=np.random.randint(10, 10**4))\n",
    "    \n",
    "    gs = GridSearchCV(SVC(), {\n",
    "       'C': np.arange(0.25, 3.0, 0.25),\n",
    "        'kernel': ['linear', 'poly', 'rbf', 'sigmoid'],\n",
    "        'degree': range(1,5)\n",
    "    }, scoring=scoring, cv=cv)\n",
    "    gs.fit(X_train, y_train)\n",
    "\n",
    "    y_pred = gs.predict(X_test)\n",
    "    \n",
    "    accuracy = round(accuracy_score(y_test, y_pred) * 100)\n",
    "    f1 = round(f1_score(y_test, y_pred) * 100)\n",
    "    auc_s = round(roc_auc_score(y_test, y_pred) * 100)\n",
    "    \n",
    "    return (accuracy, f1, auc_s, gs.best_params_)"
   ]
  },
  {
   "cell_type": "markdown",
   "metadata": {},
   "source": [
    "### Байес"
   ]
  },
  {
   "cell_type": "code",
   "execution_count": 72,
   "metadata": {},
   "outputs": [],
   "source": [
    "def bayes_test(X, y):\n",
    "    X_train, X_test, y_train, y_test = train_test_split(X, y, test_size=0.2, random_state=np.random.randint(10, 10**4))\n",
    "    \n",
    "    bayes = CategoricalNB()\n",
    "    bayes.fit(X_train, y_train)\n",
    "    \n",
    "    try:\n",
    "        y_pred = bayes.predict(X_test)\n",
    "    except: \n",
    "        return bayes_test(X, y)\n",
    "    \n",
    "    accuracy = round(accuracy_score(y_test, y_pred) * 100)\n",
    "    f1 = round(f1_score(y_test, y_pred) * 100)\n",
    "    auc_s = round(roc_auc_score(y_test, y_pred) * 100)\n",
    "    \n",
    "    return (accuracy, f1, auc_s, {})"
   ]
  },
  {
   "cell_type": "markdown",
   "metadata": {},
   "source": [
    "Функция **compare_models(X, y)** тестирует все вышеприведенные алгоритмы и выдает сводную таблицу для сравнения алгоритмов с использованными параметрами"
   ]
  },
  {
   "cell_type": "code",
   "execution_count": 45,
   "metadata": {
    "scrolled": true
   },
   "outputs": [],
   "source": [
    "from datetime import datetime\n",
    "\n",
    "def compare_models(X, y, scoring='f1'):\n",
    "    results = pd.DataFrame(columns=['Algo', 'Accurancy', 'F1', 'AUC', 'Params'])\n",
    "    \n",
    "    dt_start = datetime.now()\n",
    "    knn_accuracy, knn_f1, knn_auc, params = knn_test(X, y, scoring=scoring)\n",
    "    results = results.append({\n",
    "        'Algo': 'kNN',\n",
    "        'Accurancy': knn_accuracy,\n",
    "        'F1': knn_f1,\n",
    "        'AUC': knn_auc, \n",
    "        'Params': params\n",
    "    }, ignore_index=True)\n",
    "    dt_finish = datetime.now()\n",
    "    dt_diff = dt_finish - dt_start\n",
    "    print('kNN testing took {}'.format(dt_diff))\n",
    "    \n",
    "    dt_start = datetime.now()\n",
    "    dt_accuracy, dt_f1, dt_auc, params = dt_test(X, y, scoring=scoring)\n",
    "    results = results.append({\n",
    "        'Algo': 'Decision Tree',\n",
    "        'Accurancy': dt_accuracy,\n",
    "        'F1': dt_f1,\n",
    "        'AUC': dt_auc, \n",
    "        'Params': params\n",
    "    }, ignore_index=True)\n",
    "    dt_finish = datetime.now()\n",
    "    dt_diff = dt_finish - dt_start\n",
    "    print('Decision Tree testing took {}'.format(dt_diff))\n",
    "    \n",
    "    dt_start = datetime.now()\n",
    "    rf_accuracy, rf_f1, rf_auc, params = rf_test(X, y, scoring=scoring)\n",
    "    results = results.append({\n",
    "        'Algo': 'Random Forest',\n",
    "        'Accurancy': rf_accuracy,\n",
    "        'F1': rf_f1,\n",
    "        'AUC': rf_auc, \n",
    "        'Params': params\n",
    "    }, ignore_index=True)\n",
    "    dt_finish = datetime.now()\n",
    "    dt_diff = dt_finish - dt_start\n",
    "    print('Random Forest testing took {}'.format(dt_diff))\n",
    "    \n",
    "    dt_start = datetime.now()\n",
    "    svm_accuracy, svm_f1, svm_auc, params = svm_test(X, y, scoring=scoring)\n",
    "    results = results.append({\n",
    "        'Algo': 'SVM',\n",
    "        'Accurancy': svm_accuracy,\n",
    "        'F1': svm_f1,\n",
    "        'AUC': svm_auc, \n",
    "        'Params': params\n",
    "    }, ignore_index=True)\n",
    "    dt_finish = datetime.now()\n",
    "    dt_diff = dt_finish - dt_start\n",
    "    print('SVM testing took {}'.format(dt_diff))\n",
    "    \n",
    "    \n",
    "    dt_start = datetime.now()\n",
    "    try:\n",
    "        bayes_accuracy, bayes_f1, bayes_auc, params = bayes_test(X, y)\n",
    "    except:\n",
    "        results = results.append({\n",
    "            'Algo': 'Bayes',\n",
    "            'Accurancy': np.nan,\n",
    "            'F1': np.nan,\n",
    "            'AUC': np.nan, \n",
    "            'Params': {'error': 'error'}\n",
    "        }, ignore_index=True)\n",
    "    else:\n",
    "        results = results.append({\n",
    "            'Algo': 'Bayes',\n",
    "            'Accurancy': bayes_accuracy,\n",
    "            'F1': bayes_f1,\n",
    "            'AUC': bayes_auc, \n",
    "            'Params': params\n",
    "        }, ignore_index=True)\n",
    "        \n",
    "    dt_finish = datetime.now()\n",
    "    dt_diff = dt_finish - dt_start\n",
    "    print('Bayes testing took {}'.format(dt_diff))\n",
    "    \n",
    "    return results"
   ]
  },
  {
   "cell_type": "code",
   "execution_count": 19,
   "metadata": {},
   "outputs": [
    {
     "data": {
      "text/html": [
       "<div>\n",
       "<style scoped>\n",
       "    .dataframe tbody tr th:only-of-type {\n",
       "        vertical-align: middle;\n",
       "    }\n",
       "\n",
       "    .dataframe tbody tr th {\n",
       "        vertical-align: top;\n",
       "    }\n",
       "\n",
       "    .dataframe thead th {\n",
       "        text-align: right;\n",
       "    }\n",
       "</style>\n",
       "<table border=\"1\" class=\"dataframe\">\n",
       "  <thead>\n",
       "    <tr style=\"text-align: right;\">\n",
       "      <th></th>\n",
       "      <th>Age</th>\n",
       "      <th>SibSp</th>\n",
       "      <th>Parch</th>\n",
       "      <th>Fare</th>\n",
       "      <th>Pclass_1</th>\n",
       "      <th>Pclass_2</th>\n",
       "      <th>Pclass_3</th>\n",
       "      <th>Sex_female</th>\n",
       "      <th>Sex_male</th>\n",
       "      <th>Embarked_C</th>\n",
       "      <th>Embarked_Q</th>\n",
       "      <th>Embarked_S</th>\n",
       "    </tr>\n",
       "    <tr>\n",
       "      <th>PassengerId</th>\n",
       "      <th></th>\n",
       "      <th></th>\n",
       "      <th></th>\n",
       "      <th></th>\n",
       "      <th></th>\n",
       "      <th></th>\n",
       "      <th></th>\n",
       "      <th></th>\n",
       "      <th></th>\n",
       "      <th></th>\n",
       "      <th></th>\n",
       "      <th></th>\n",
       "    </tr>\n",
       "  </thead>\n",
       "  <tbody>\n",
       "    <tr>\n",
       "      <th>1</th>\n",
       "      <td>22.0</td>\n",
       "      <td>1</td>\n",
       "      <td>0</td>\n",
       "      <td>7.2500</td>\n",
       "      <td>0</td>\n",
       "      <td>0</td>\n",
       "      <td>1</td>\n",
       "      <td>0</td>\n",
       "      <td>1</td>\n",
       "      <td>0</td>\n",
       "      <td>0</td>\n",
       "      <td>1</td>\n",
       "    </tr>\n",
       "    <tr>\n",
       "      <th>2</th>\n",
       "      <td>38.0</td>\n",
       "      <td>1</td>\n",
       "      <td>0</td>\n",
       "      <td>71.2833</td>\n",
       "      <td>1</td>\n",
       "      <td>0</td>\n",
       "      <td>0</td>\n",
       "      <td>1</td>\n",
       "      <td>0</td>\n",
       "      <td>1</td>\n",
       "      <td>0</td>\n",
       "      <td>0</td>\n",
       "    </tr>\n",
       "    <tr>\n",
       "      <th>3</th>\n",
       "      <td>26.0</td>\n",
       "      <td>0</td>\n",
       "      <td>0</td>\n",
       "      <td>7.9250</td>\n",
       "      <td>0</td>\n",
       "      <td>0</td>\n",
       "      <td>1</td>\n",
       "      <td>1</td>\n",
       "      <td>0</td>\n",
       "      <td>0</td>\n",
       "      <td>0</td>\n",
       "      <td>1</td>\n",
       "    </tr>\n",
       "    <tr>\n",
       "      <th>4</th>\n",
       "      <td>35.0</td>\n",
       "      <td>1</td>\n",
       "      <td>0</td>\n",
       "      <td>53.1000</td>\n",
       "      <td>1</td>\n",
       "      <td>0</td>\n",
       "      <td>0</td>\n",
       "      <td>1</td>\n",
       "      <td>0</td>\n",
       "      <td>0</td>\n",
       "      <td>0</td>\n",
       "      <td>1</td>\n",
       "    </tr>\n",
       "    <tr>\n",
       "      <th>5</th>\n",
       "      <td>35.0</td>\n",
       "      <td>0</td>\n",
       "      <td>0</td>\n",
       "      <td>8.0500</td>\n",
       "      <td>0</td>\n",
       "      <td>0</td>\n",
       "      <td>1</td>\n",
       "      <td>0</td>\n",
       "      <td>1</td>\n",
       "      <td>0</td>\n",
       "      <td>0</td>\n",
       "      <td>1</td>\n",
       "    </tr>\n",
       "  </tbody>\n",
       "</table>\n",
       "</div>"
      ],
      "text/plain": [
       "              Age  SibSp  Parch     Fare  Pclass_1  Pclass_2  Pclass_3  \\\n",
       "PassengerId                                                              \n",
       "1            22.0      1      0   7.2500         0         0         1   \n",
       "2            38.0      1      0  71.2833         1         0         0   \n",
       "3            26.0      0      0   7.9250         0         0         1   \n",
       "4            35.0      1      0  53.1000         1         0         0   \n",
       "5            35.0      0      0   8.0500         0         0         1   \n",
       "\n",
       "             Sex_female  Sex_male  Embarked_C  Embarked_Q  Embarked_S  \n",
       "PassengerId                                                            \n",
       "1                     0         1           0           0           1  \n",
       "2                     1         0           1           0           0  \n",
       "3                     1         0           0           0           1  \n",
       "4                     1         0           0           0           1  \n",
       "5                     0         1           0           0           1  "
      ]
     },
     "execution_count": 19,
     "metadata": {},
     "output_type": "execute_result"
    }
   ],
   "source": [
    "df_math = pd.concat([\n",
    "    df[['Age', 'SibSp', 'Parch', 'Fare']], \n",
    "    pd.get_dummies(df['Pclass'], prefix='Pclass'), \n",
    "    pd.get_dummies(df['Sex'], prefix='Sex'),\n",
    "    pd.get_dummies(df['Embarked'], prefix='Embarked')\n",
    "], axis=1)\n",
    "\n",
    "X = df_math.values\n",
    "y = df['Survived'].values\n",
    "\n",
    "df_math.head()"
   ]
  },
  {
   "cell_type": "code",
   "execution_count": 20,
   "metadata": {},
   "outputs": [],
   "source": [
    "# Задаем минимальную стоимость оплаты, иначе Байес не будет работать\n",
    "df_math.loc[ df_math.Fare == 0, 'Fare' ] = 1.0"
   ]
  },
  {
   "cell_type": "code",
   "execution_count": 21,
   "metadata": {},
   "outputs": [
    {
     "data": {
      "text/plain": [
       "count    889.000000\n",
       "mean      32.113554\n",
       "std       49.686761\n",
       "min        1.000000\n",
       "25%        7.895800\n",
       "50%       14.454200\n",
       "75%       31.000000\n",
       "max      512.329200\n",
       "Name: Fare, dtype: float64"
      ]
     },
     "execution_count": 21,
     "metadata": {},
     "output_type": "execute_result"
    }
   ],
   "source": [
    "df_math.Fare.describe()"
   ]
  },
  {
   "cell_type": "code",
   "execution_count": 41,
   "metadata": {},
   "outputs": [
    {
     "name": "stdout",
     "output_type": "stream",
     "text": [
      "accuracy=77, f1=70, AUC=75, params={'C': 0.25, 'degree': 1, 'kernel': 'linear'}\n"
     ]
    }
   ],
   "source": [
    "\n",
    "X_train, X_test, y_train, y_test = train_test_split(X, y, test_size=0.25, random_state=np.random.randint(10, 10**4))\n",
    "\n",
    "gs = GridSearchCV(SVC(), {\n",
    "    'C': np.arange(0.25, 3.0, 0.25),\n",
    "    'kernel': ['linear'],\n",
    "    'degree': range(1,5)\n",
    "}, scoring='f1', cv=5)\n",
    "gs.fit(X_train, y_train)\n",
    "\n",
    "y_pred = gs.predict(X_test)\n",
    "\n",
    "accuracy = round(accuracy_score(y_test, y_pred) * 100)\n",
    "f1 = round(f1_score(y_test, y_pred) * 100)\n",
    "auc_s = round(roc_auc_score(y_test, y_pred) * 100)\n",
    "\n",
    "print('accuracy={}, f1={}, AUC={}, params={}'.format(accuracy, f1, auc_s, gs.best_params_))"
   ]
  },
  {
   "cell_type": "code",
   "execution_count": 43,
   "metadata": {
    "collapsed": true
   },
   "outputs": [
    {
     "name": "stdout",
     "output_type": "stream",
     "text": [
      "kNN testing took 0:00:03.518972\n",
      "Decision Tree testing took 0:00:00.124000\n",
      "Random Forest testing took 0:02:53.234000\n",
      "Bayes testing took 0:00:00.007024\n"
     ]
    },
    {
     "ename": "NameError",
     "evalue": "name 'compare' is not defined",
     "output_type": "error",
     "traceback": [
      "\u001b[1;31m---------------------------------------------------------------------------\u001b[0m",
      "\u001b[1;31mNameError\u001b[0m                                 Traceback (most recent call last)",
      "\u001b[1;32m<ipython-input-43-c0dba29560cc>\u001b[0m in \u001b[0;36m<module>\u001b[1;34m\u001b[0m\n\u001b[0;32m      1\u001b[0m \u001b[0mcompare_f1\u001b[0m \u001b[1;33m=\u001b[0m \u001b[0mcompare_models\u001b[0m\u001b[1;33m(\u001b[0m\u001b[0mX\u001b[0m\u001b[1;33m,\u001b[0m \u001b[0my\u001b[0m\u001b[1;33m,\u001b[0m \u001b[0mscoring\u001b[0m\u001b[1;33m=\u001b[0m\u001b[1;34m'f1'\u001b[0m\u001b[1;33m)\u001b[0m\u001b[1;33m\u001b[0m\u001b[1;33m\u001b[0m\u001b[0m\n\u001b[1;32m----> 2\u001b[1;33m \u001b[0mcompare\u001b[0m\u001b[1;33m\u001b[0m\u001b[1;33m\u001b[0m\u001b[0m\n\u001b[0m",
      "\u001b[1;31mNameError\u001b[0m: name 'compare' is not defined"
     ]
    }
   ],
   "source": [
    "compare_f1 = compare_models(X, y, scoring='f1')\n",
    "compare_f1"
   ]
  },
  {
   "cell_type": "code",
   "execution_count": 44,
   "metadata": {},
   "outputs": [
    {
     "data": {
      "text/html": [
       "<div>\n",
       "<style scoped>\n",
       "    .dataframe tbody tr th:only-of-type {\n",
       "        vertical-align: middle;\n",
       "    }\n",
       "\n",
       "    .dataframe tbody tr th {\n",
       "        vertical-align: top;\n",
       "    }\n",
       "\n",
       "    .dataframe thead th {\n",
       "        text-align: right;\n",
       "    }\n",
       "</style>\n",
       "<table border=\"1\" class=\"dataframe\">\n",
       "  <thead>\n",
       "    <tr style=\"text-align: right;\">\n",
       "      <th></th>\n",
       "      <th>Algo</th>\n",
       "      <th>Accurancy</th>\n",
       "      <th>F1</th>\n",
       "      <th>AUC</th>\n",
       "      <th>Params</th>\n",
       "    </tr>\n",
       "  </thead>\n",
       "  <tbody>\n",
       "    <tr>\n",
       "      <th>0</th>\n",
       "      <td>kNN</td>\n",
       "      <td>74</td>\n",
       "      <td>65</td>\n",
       "      <td>73</td>\n",
       "      <td>{'algorithm': 'auto', 'metric': 'manhattan', '...</td>\n",
       "    </tr>\n",
       "    <tr>\n",
       "      <th>1</th>\n",
       "      <td>Decision Tree</td>\n",
       "      <td>74</td>\n",
       "      <td>70</td>\n",
       "      <td>74</td>\n",
       "      <td>{'criterion': 'entropy', 'min_samples_split': ...</td>\n",
       "    </tr>\n",
       "    <tr>\n",
       "      <th>2</th>\n",
       "      <td>Random Forest</td>\n",
       "      <td>81</td>\n",
       "      <td>72</td>\n",
       "      <td>78</td>\n",
       "      <td>{'criterion': 'gini', 'min_samples_split': 5, ...</td>\n",
       "    </tr>\n",
       "    <tr>\n",
       "      <th>3</th>\n",
       "      <td>Bayes</td>\n",
       "      <td>76</td>\n",
       "      <td>67</td>\n",
       "      <td>74</td>\n",
       "      <td>{}</td>\n",
       "    </tr>\n",
       "  </tbody>\n",
       "</table>\n",
       "</div>"
      ],
      "text/plain": [
       "            Algo Accurancy  F1 AUC  \\\n",
       "0            kNN        74  65  73   \n",
       "1  Decision Tree        74  70  74   \n",
       "2  Random Forest        81  72  78   \n",
       "3          Bayes        76  67  74   \n",
       "\n",
       "                                              Params  \n",
       "0  {'algorithm': 'auto', 'metric': 'manhattan', '...  \n",
       "1  {'criterion': 'entropy', 'min_samples_split': ...  \n",
       "2  {'criterion': 'gini', 'min_samples_split': 5, ...  \n",
       "3                                                 {}  "
      ]
     },
     "execution_count": 44,
     "metadata": {},
     "output_type": "execute_result"
    }
   ],
   "source": [
    "compare_f1"
   ]
  },
  {
   "cell_type": "markdown",
   "metadata": {},
   "source": [
    "### Без поля Fare"
   ]
  },
  {
   "cell_type": "code",
   "execution_count": 263,
   "metadata": {},
   "outputs": [],
   "source": [
    "df_math2 = pd.concat([\n",
    "    df[['Age', 'SibSp', 'Parch']], \n",
    "    pd.get_dummies(df['Pclass'], prefix='Pclass'), \n",
    "    pd.get_dummies(df['Sex'], prefix='Sex'),\n",
    "    pd.get_dummies(df['Embarked'], prefix='Embarked')\n",
    "], axis=1)\n",
    "\n",
    "X2 = df_math2.values"
   ]
  },
  {
   "cell_type": "code",
   "execution_count": 248,
   "metadata": {},
   "outputs": [
    {
     "name": "stdout",
     "output_type": "stream",
     "text": [
      "kNN testing took 0:00:03.503115\n",
      "Decision Tree testing took 0:00:00.113995\n",
      "Random Forest testing took 0:02:51.446610\n",
      "SVM testing took 0:00:15.682070\n",
      "Bayes testing took 0:00:00.006968\n"
     ]
    },
    {
     "data": {
      "text/html": [
       "<div>\n",
       "<style scoped>\n",
       "    .dataframe tbody tr th:only-of-type {\n",
       "        vertical-align: middle;\n",
       "    }\n",
       "\n",
       "    .dataframe tbody tr th {\n",
       "        vertical-align: top;\n",
       "    }\n",
       "\n",
       "    .dataframe thead th {\n",
       "        text-align: right;\n",
       "    }\n",
       "</style>\n",
       "<table border=\"1\" class=\"dataframe\">\n",
       "  <thead>\n",
       "    <tr style=\"text-align: right;\">\n",
       "      <th></th>\n",
       "      <th>Algo</th>\n",
       "      <th>Accurancy</th>\n",
       "      <th>F1</th>\n",
       "      <th>AUC</th>\n",
       "      <th>Params</th>\n",
       "    </tr>\n",
       "  </thead>\n",
       "  <tbody>\n",
       "    <tr>\n",
       "      <th>0</th>\n",
       "      <td>kNN</td>\n",
       "      <td>82</td>\n",
       "      <td>75</td>\n",
       "      <td>80</td>\n",
       "      <td>{'algorithm': 'auto', 'metric': 'manhattan', '...</td>\n",
       "    </tr>\n",
       "    <tr>\n",
       "      <th>1</th>\n",
       "      <td>Decision Tree</td>\n",
       "      <td>74</td>\n",
       "      <td>63</td>\n",
       "      <td>71</td>\n",
       "      <td>{'criterion': 'entropy', 'min_samples_split': ...</td>\n",
       "    </tr>\n",
       "    <tr>\n",
       "      <th>2</th>\n",
       "      <td>Random Forest</td>\n",
       "      <td>80</td>\n",
       "      <td>72</td>\n",
       "      <td>78</td>\n",
       "      <td>{'criterion': 'gini', 'min_samples_split': 7, ...</td>\n",
       "    </tr>\n",
       "    <tr>\n",
       "      <th>3</th>\n",
       "      <td>SVM</td>\n",
       "      <td>79</td>\n",
       "      <td>67</td>\n",
       "      <td>75</td>\n",
       "      <td>{'C': 0.5, 'degree': 1, 'kernel': 'linear'}</td>\n",
       "    </tr>\n",
       "    <tr>\n",
       "      <th>4</th>\n",
       "      <td>Bayes</td>\n",
       "      <td>78</td>\n",
       "      <td>71</td>\n",
       "      <td>76</td>\n",
       "      <td>{}</td>\n",
       "    </tr>\n",
       "  </tbody>\n",
       "</table>\n",
       "</div>"
      ],
      "text/plain": [
       "            Algo Accurancy  F1 AUC  \\\n",
       "0            kNN        82  75  80   \n",
       "1  Decision Tree        74  63  71   \n",
       "2  Random Forest        80  72  78   \n",
       "3            SVM        79  67  75   \n",
       "4          Bayes        78  71  76   \n",
       "\n",
       "                                              Params  \n",
       "0  {'algorithm': 'auto', 'metric': 'manhattan', '...  \n",
       "1  {'criterion': 'entropy', 'min_samples_split': ...  \n",
       "2  {'criterion': 'gini', 'min_samples_split': 7, ...  \n",
       "3        {'C': 0.5, 'degree': 1, 'kernel': 'linear'}  \n",
       "4                                                 {}  "
      ]
     },
     "execution_count": 248,
     "metadata": {},
     "output_type": "execute_result"
    }
   ],
   "source": [
    "compare = compare_models(X2, y)\n",
    "compare"
   ]
  },
  {
   "cell_type": "markdown",
   "metadata": {},
   "source": [
    "### Все кроме Age поля разложены по HOE"
   ]
  },
  {
   "cell_type": "code",
   "execution_count": 249,
   "metadata": {},
   "outputs": [],
   "source": [
    "df_math3 = pd.concat([\n",
    "    df[['Age']], \n",
    "    pd.get_dummies(df['SibSp'], prefix='SibSp'), \n",
    "    pd.get_dummies(df['Parch'], prefix='Parch'), \n",
    "    pd.get_dummies(df['Pclass'], prefix='Pclass'), \n",
    "    pd.get_dummies(df['Sex'], prefix='Sex'),\n",
    "    pd.get_dummies(df['Embarked'], prefix='Embarked')\n",
    "], axis=1)\n",
    "\n",
    "X3 = df_math3.values"
   ]
  },
  {
   "cell_type": "code",
   "execution_count": 250,
   "metadata": {},
   "outputs": [
    {
     "name": "stdout",
     "output_type": "stream",
     "text": [
      "kNN testing took 0:00:04.349270\n",
      "Decision Tree testing took 0:00:00.128999\n",
      "Random Forest testing took 0:02:50.944115\n",
      "SVM testing took 0:02:18.348000\n",
      "Bayes testing took 0:00:00.008024\n"
     ]
    },
    {
     "data": {
      "text/html": [
       "<div>\n",
       "<style scoped>\n",
       "    .dataframe tbody tr th:only-of-type {\n",
       "        vertical-align: middle;\n",
       "    }\n",
       "\n",
       "    .dataframe tbody tr th {\n",
       "        vertical-align: top;\n",
       "    }\n",
       "\n",
       "    .dataframe thead th {\n",
       "        text-align: right;\n",
       "    }\n",
       "</style>\n",
       "<table border=\"1\" class=\"dataframe\">\n",
       "  <thead>\n",
       "    <tr style=\"text-align: right;\">\n",
       "      <th></th>\n",
       "      <th>Algo</th>\n",
       "      <th>Accurancy</th>\n",
       "      <th>F1</th>\n",
       "      <th>AUC</th>\n",
       "      <th>Params</th>\n",
       "    </tr>\n",
       "  </thead>\n",
       "  <tbody>\n",
       "    <tr>\n",
       "      <th>0</th>\n",
       "      <td>kNN</td>\n",
       "      <td>80</td>\n",
       "      <td>73</td>\n",
       "      <td>79</td>\n",
       "      <td>{'algorithm': 'auto', 'metric': 'manhattan', '...</td>\n",
       "    </tr>\n",
       "    <tr>\n",
       "      <th>1</th>\n",
       "      <td>Decision Tree</td>\n",
       "      <td>80</td>\n",
       "      <td>75</td>\n",
       "      <td>79</td>\n",
       "      <td>{'criterion': 'entropy', 'min_samples_split': ...</td>\n",
       "    </tr>\n",
       "    <tr>\n",
       "      <th>2</th>\n",
       "      <td>Random Forest</td>\n",
       "      <td>79</td>\n",
       "      <td>72</td>\n",
       "      <td>78</td>\n",
       "      <td>{'criterion': 'gini', 'min_samples_split': 8, ...</td>\n",
       "    </tr>\n",
       "    <tr>\n",
       "      <th>3</th>\n",
       "      <td>SVM</td>\n",
       "      <td>78</td>\n",
       "      <td>69</td>\n",
       "      <td>76</td>\n",
       "      <td>{'C': 0.5, 'degree': 1, 'kernel': 'linear'}</td>\n",
       "    </tr>\n",
       "    <tr>\n",
       "      <th>4</th>\n",
       "      <td>Bayes</td>\n",
       "      <td>80</td>\n",
       "      <td>76</td>\n",
       "      <td>79</td>\n",
       "      <td>{}</td>\n",
       "    </tr>\n",
       "  </tbody>\n",
       "</table>\n",
       "</div>"
      ],
      "text/plain": [
       "            Algo Accurancy  F1 AUC  \\\n",
       "0            kNN        80  73  79   \n",
       "1  Decision Tree        80  75  79   \n",
       "2  Random Forest        79  72  78   \n",
       "3            SVM        78  69  76   \n",
       "4          Bayes        80  76  79   \n",
       "\n",
       "                                              Params  \n",
       "0  {'algorithm': 'auto', 'metric': 'manhattan', '...  \n",
       "1  {'criterion': 'entropy', 'min_samples_split': ...  \n",
       "2  {'criterion': 'gini', 'min_samples_split': 8, ...  \n",
       "3        {'C': 0.5, 'degree': 1, 'kernel': 'linear'}  \n",
       "4                                                 {}  "
      ]
     },
     "execution_count": 250,
     "metadata": {},
     "output_type": "execute_result"
    }
   ],
   "source": [
    "compare = compare_models(X3, y)\n",
    "compare"
   ]
  },
  {
   "cell_type": "code",
   "execution_count": 256,
   "metadata": {},
   "outputs": [
    {
     "name": "stdout",
     "output_type": "stream",
     "text": [
      "kNN testing took 0:00:03.931005\n",
      "Decision Tree testing took 0:00:00.100000\n",
      "Random Forest testing took 0:02:50.120077\n",
      "SVM testing took 0:06:04.935998\n",
      "Bayes testing took 0:00:00.008000\n"
     ]
    },
    {
     "data": {
      "text/html": [
       "<div>\n",
       "<style scoped>\n",
       "    .dataframe tbody tr th:only-of-type {\n",
       "        vertical-align: middle;\n",
       "    }\n",
       "\n",
       "    .dataframe tbody tr th {\n",
       "        vertical-align: top;\n",
       "    }\n",
       "\n",
       "    .dataframe thead th {\n",
       "        text-align: right;\n",
       "    }\n",
       "</style>\n",
       "<table border=\"1\" class=\"dataframe\">\n",
       "  <thead>\n",
       "    <tr style=\"text-align: right;\">\n",
       "      <th></th>\n",
       "      <th>Algo</th>\n",
       "      <th>Accurancy</th>\n",
       "      <th>F1</th>\n",
       "      <th>AUC</th>\n",
       "      <th>Params</th>\n",
       "    </tr>\n",
       "  </thead>\n",
       "  <tbody>\n",
       "    <tr>\n",
       "      <th>0</th>\n",
       "      <td>kNN</td>\n",
       "      <td>75</td>\n",
       "      <td>71</td>\n",
       "      <td>75</td>\n",
       "      <td>{'algorithm': 'auto', 'metric': 'manhattan', '...</td>\n",
       "    </tr>\n",
       "    <tr>\n",
       "      <th>1</th>\n",
       "      <td>Decision Tree</td>\n",
       "      <td>78</td>\n",
       "      <td>72</td>\n",
       "      <td>77</td>\n",
       "      <td>{'criterion': 'entropy', 'min_samples_split': ...</td>\n",
       "    </tr>\n",
       "    <tr>\n",
       "      <th>2</th>\n",
       "      <td>Random Forest</td>\n",
       "      <td>84</td>\n",
       "      <td>78</td>\n",
       "      <td>84</td>\n",
       "      <td>{'criterion': 'gini', 'min_samples_split': 10,...</td>\n",
       "    </tr>\n",
       "    <tr>\n",
       "      <th>3</th>\n",
       "      <td>SVM</td>\n",
       "      <td>81</td>\n",
       "      <td>76</td>\n",
       "      <td>80</td>\n",
       "      <td>{'C': 1.0, 'degree': 1, 'kernel': 'linear'}</td>\n",
       "    </tr>\n",
       "    <tr>\n",
       "      <th>4</th>\n",
       "      <td>Bayes</td>\n",
       "      <td>87</td>\n",
       "      <td>83</td>\n",
       "      <td>86</td>\n",
       "      <td>{}</td>\n",
       "    </tr>\n",
       "  </tbody>\n",
       "</table>\n",
       "</div>"
      ],
      "text/plain": [
       "            Algo Accurancy  F1 AUC  \\\n",
       "0            kNN        75  71  75   \n",
       "1  Decision Tree        78  72  77   \n",
       "2  Random Forest        84  78  84   \n",
       "3            SVM        81  76  80   \n",
       "4          Bayes        87  83  86   \n",
       "\n",
       "                                              Params  \n",
       "0  {'algorithm': 'auto', 'metric': 'manhattan', '...  \n",
       "1  {'criterion': 'entropy', 'min_samples_split': ...  \n",
       "2  {'criterion': 'gini', 'min_samples_split': 10,...  \n",
       "3        {'C': 1.0, 'degree': 1, 'kernel': 'linear'}  \n",
       "4                                                 {}  "
      ]
     },
     "execution_count": 256,
     "metadata": {},
     "output_type": "execute_result"
    }
   ],
   "source": [
    "compare = compare_models(X3, y, scoring='accuracy')\n",
    "compare"
   ]
  },
  {
   "cell_type": "code",
   "execution_count": 257,
   "metadata": {},
   "outputs": [
    {
     "data": {
      "text/plain": [
       "array([{'criterion': 'gini', 'min_samples_split': 10, 'n_estimators': 300}],\n",
       "      dtype=object)"
      ]
     },
     "execution_count": 257,
     "metadata": {},
     "output_type": "execute_result"
    }
   ],
   "source": [
    "compare[ compare.Algo == 'Random Forest' ].Params.values"
   ]
  },
  {
   "cell_type": "markdown",
   "metadata": {},
   "source": [
    "### Без Age и все поля разложены по HOE"
   ]
  },
  {
   "cell_type": "code",
   "execution_count": 258,
   "metadata": {},
   "outputs": [],
   "source": [
    "df_math4 = pd.concat([\n",
    "    pd.get_dummies(df['SibSp'], prefix='SibSp'), \n",
    "    pd.get_dummies(df['Parch'], prefix='Parch'), \n",
    "    pd.get_dummies(df['Pclass'], prefix='Pclass'), \n",
    "    pd.get_dummies(df['Sex'], prefix='Sex'),\n",
    "    pd.get_dummies(df['Embarked'], prefix='Embarked')\n",
    "], axis=1)\n",
    "\n",
    "X4 = df_math4.values"
   ]
  },
  {
   "cell_type": "code",
   "execution_count": 259,
   "metadata": {},
   "outputs": [
    {
     "name": "stdout",
     "output_type": "stream",
     "text": [
      "kNN testing took 0:00:04.747025\n",
      "Decision Tree testing took 0:00:00.084000\n",
      "Random Forest testing took 0:02:41.272974\n",
      "SVM testing took 0:00:05.844030\n",
      "Bayes testing took 0:00:00.007972\n",
      "kNN testing took 0:00:05.378025\n",
      "Decision Tree testing took 0:00:00.110000\n",
      "Random Forest testing took 0:02:47.062974\n",
      "SVM testing took 0:00:06.575000\n",
      "Bayes testing took 0:00:00.008001\n"
     ]
    }
   ],
   "source": [
    "compare_X4_accuracy = compare_models(X4, y, scoring='accuracy')\n",
    "compare_x4_F1 = compare_models(X4, y, scoring='f1')\n"
   ]
  },
  {
   "cell_type": "code",
   "execution_count": 260,
   "metadata": {},
   "outputs": [
    {
     "data": {
      "text/html": [
       "<div>\n",
       "<style scoped>\n",
       "    .dataframe tbody tr th:only-of-type {\n",
       "        vertical-align: middle;\n",
       "    }\n",
       "\n",
       "    .dataframe tbody tr th {\n",
       "        vertical-align: top;\n",
       "    }\n",
       "\n",
       "    .dataframe thead th {\n",
       "        text-align: right;\n",
       "    }\n",
       "</style>\n",
       "<table border=\"1\" class=\"dataframe\">\n",
       "  <thead>\n",
       "    <tr style=\"text-align: right;\">\n",
       "      <th></th>\n",
       "      <th>Algo</th>\n",
       "      <th>Accurancy</th>\n",
       "      <th>F1</th>\n",
       "      <th>AUC</th>\n",
       "      <th>Params</th>\n",
       "    </tr>\n",
       "  </thead>\n",
       "  <tbody>\n",
       "    <tr>\n",
       "      <th>0</th>\n",
       "      <td>kNN</td>\n",
       "      <td>78</td>\n",
       "      <td>66</td>\n",
       "      <td>74</td>\n",
       "      <td>{'algorithm': 'auto', 'metric': 'euclidean', '...</td>\n",
       "    </tr>\n",
       "    <tr>\n",
       "      <th>1</th>\n",
       "      <td>Decision Tree</td>\n",
       "      <td>82</td>\n",
       "      <td>71</td>\n",
       "      <td>78</td>\n",
       "      <td>{'criterion': 'gini', 'min_samples_split': 2, ...</td>\n",
       "    </tr>\n",
       "    <tr>\n",
       "      <th>2</th>\n",
       "      <td>Random Forest</td>\n",
       "      <td>82</td>\n",
       "      <td>76</td>\n",
       "      <td>80</td>\n",
       "      <td>{'criterion': 'gini', 'min_samples_split': 10,...</td>\n",
       "    </tr>\n",
       "    <tr>\n",
       "      <th>3</th>\n",
       "      <td>SVM</td>\n",
       "      <td>79</td>\n",
       "      <td>68</td>\n",
       "      <td>75</td>\n",
       "      <td>{'C': 0.25, 'degree': 3, 'kernel': 'poly'}</td>\n",
       "    </tr>\n",
       "    <tr>\n",
       "      <th>4</th>\n",
       "      <td>Bayes</td>\n",
       "      <td>79</td>\n",
       "      <td>75</td>\n",
       "      <td>79</td>\n",
       "      <td>{}</td>\n",
       "    </tr>\n",
       "  </tbody>\n",
       "</table>\n",
       "</div>"
      ],
      "text/plain": [
       "            Algo Accurancy  F1 AUC  \\\n",
       "0            kNN        78  66  74   \n",
       "1  Decision Tree        82  71  78   \n",
       "2  Random Forest        82  76  80   \n",
       "3            SVM        79  68  75   \n",
       "4          Bayes        79  75  79   \n",
       "\n",
       "                                              Params  \n",
       "0  {'algorithm': 'auto', 'metric': 'euclidean', '...  \n",
       "1  {'criterion': 'gini', 'min_samples_split': 2, ...  \n",
       "2  {'criterion': 'gini', 'min_samples_split': 10,...  \n",
       "3         {'C': 0.25, 'degree': 3, 'kernel': 'poly'}  \n",
       "4                                                 {}  "
      ]
     },
     "execution_count": 260,
     "metadata": {},
     "output_type": "execute_result"
    }
   ],
   "source": [
    "compare_X4_accuracy"
   ]
  },
  {
   "cell_type": "code",
   "execution_count": 261,
   "metadata": {},
   "outputs": [
    {
     "data": {
      "text/html": [
       "<div>\n",
       "<style scoped>\n",
       "    .dataframe tbody tr th:only-of-type {\n",
       "        vertical-align: middle;\n",
       "    }\n",
       "\n",
       "    .dataframe tbody tr th {\n",
       "        vertical-align: top;\n",
       "    }\n",
       "\n",
       "    .dataframe thead th {\n",
       "        text-align: right;\n",
       "    }\n",
       "</style>\n",
       "<table border=\"1\" class=\"dataframe\">\n",
       "  <thead>\n",
       "    <tr style=\"text-align: right;\">\n",
       "      <th></th>\n",
       "      <th>Algo</th>\n",
       "      <th>Accurancy</th>\n",
       "      <th>F1</th>\n",
       "      <th>AUC</th>\n",
       "      <th>Params</th>\n",
       "    </tr>\n",
       "  </thead>\n",
       "  <tbody>\n",
       "    <tr>\n",
       "      <th>0</th>\n",
       "      <td>kNN</td>\n",
       "      <td>79</td>\n",
       "      <td>73</td>\n",
       "      <td>78</td>\n",
       "      <td>{'algorithm': 'auto', 'metric': 'euclidean', '...</td>\n",
       "    </tr>\n",
       "    <tr>\n",
       "      <th>1</th>\n",
       "      <td>Decision Tree</td>\n",
       "      <td>78</td>\n",
       "      <td>72</td>\n",
       "      <td>77</td>\n",
       "      <td>{'criterion': 'gini', 'min_samples_split': 3, ...</td>\n",
       "    </tr>\n",
       "    <tr>\n",
       "      <th>2</th>\n",
       "      <td>Random Forest</td>\n",
       "      <td>78</td>\n",
       "      <td>70</td>\n",
       "      <td>75</td>\n",
       "      <td>{'criterion': 'gini', 'min_samples_split': 3, ...</td>\n",
       "    </tr>\n",
       "    <tr>\n",
       "      <th>3</th>\n",
       "      <td>SVM</td>\n",
       "      <td>79</td>\n",
       "      <td>67</td>\n",
       "      <td>75</td>\n",
       "      <td>{'C': 0.5, 'degree': 1, 'kernel': 'rbf'}</td>\n",
       "    </tr>\n",
       "    <tr>\n",
       "      <th>4</th>\n",
       "      <td>Bayes</td>\n",
       "      <td>84</td>\n",
       "      <td>78</td>\n",
       "      <td>83</td>\n",
       "      <td>{}</td>\n",
       "    </tr>\n",
       "  </tbody>\n",
       "</table>\n",
       "</div>"
      ],
      "text/plain": [
       "            Algo Accurancy  F1 AUC  \\\n",
       "0            kNN        79  73  78   \n",
       "1  Decision Tree        78  72  77   \n",
       "2  Random Forest        78  70  75   \n",
       "3            SVM        79  67  75   \n",
       "4          Bayes        84  78  83   \n",
       "\n",
       "                                              Params  \n",
       "0  {'algorithm': 'auto', 'metric': 'euclidean', '...  \n",
       "1  {'criterion': 'gini', 'min_samples_split': 3, ...  \n",
       "2  {'criterion': 'gini', 'min_samples_split': 3, ...  \n",
       "3           {'C': 0.5, 'degree': 1, 'kernel': 'rbf'}  \n",
       "4                                                 {}  "
      ]
     },
     "execution_count": 261,
     "metadata": {},
     "output_type": "execute_result"
    }
   ],
   "source": [
    "compare_x4_F1"
   ]
  },
  {
   "cell_type": "markdown",
   "metadata": {},
   "source": [
    "### Без age и без HOE"
   ]
  },
  {
   "cell_type": "code",
   "execution_count": 265,
   "metadata": {},
   "outputs": [],
   "source": [
    "df_math5 = pd.concat([\n",
    "    df[['SibSp', 'Parch']], \n",
    "    pd.get_dummies(df['Pclass'], prefix='Pclass'), \n",
    "    pd.get_dummies(df['Sex'], prefix='Sex'),\n",
    "    pd.get_dummies(df['Embarked'], prefix='Embarked')\n",
    "], axis=1)\n",
    "\n",
    "X5 = df_math5.values"
   ]
  },
  {
   "cell_type": "code",
   "execution_count": 266,
   "metadata": {},
   "outputs": [
    {
     "name": "stdout",
     "output_type": "stream",
     "text": [
      "kNN testing took 0:00:03.489020\n",
      "Decision Tree testing took 0:00:00.074000\n",
      "Random Forest testing took 0:02:37.953995\n",
      "SVM testing took 0:00:04.976004\n",
      "Bayes testing took 0:00:00.006024\n",
      "kNN testing took 0:00:03.785025\n",
      "Decision Tree testing took 0:00:00.097975\n",
      "Random Forest testing took 0:02:37.810180\n",
      "SVM testing took 0:00:06.290029\n",
      "Bayes testing took 0:00:00.006970\n"
     ]
    }
   ],
   "source": [
    "compare_X5_accuracy = compare_models(X5, y, scoring='accuracy')\n",
    "compare_x5_F1 = compare_models(X5, y, scoring='f1')"
   ]
  },
  {
   "cell_type": "code",
   "execution_count": 267,
   "metadata": {},
   "outputs": [
    {
     "data": {
      "text/html": [
       "<div>\n",
       "<style scoped>\n",
       "    .dataframe tbody tr th:only-of-type {\n",
       "        vertical-align: middle;\n",
       "    }\n",
       "\n",
       "    .dataframe tbody tr th {\n",
       "        vertical-align: top;\n",
       "    }\n",
       "\n",
       "    .dataframe thead th {\n",
       "        text-align: right;\n",
       "    }\n",
       "</style>\n",
       "<table border=\"1\" class=\"dataframe\">\n",
       "  <thead>\n",
       "    <tr style=\"text-align: right;\">\n",
       "      <th></th>\n",
       "      <th>Algo</th>\n",
       "      <th>Accurancy</th>\n",
       "      <th>F1</th>\n",
       "      <th>AUC</th>\n",
       "      <th>Params</th>\n",
       "    </tr>\n",
       "  </thead>\n",
       "  <tbody>\n",
       "    <tr>\n",
       "      <th>0</th>\n",
       "      <td>kNN</td>\n",
       "      <td>79</td>\n",
       "      <td>65</td>\n",
       "      <td>74</td>\n",
       "      <td>{'algorithm': 'auto', 'metric': 'euclidean', '...</td>\n",
       "    </tr>\n",
       "    <tr>\n",
       "      <th>1</th>\n",
       "      <td>Decision Tree</td>\n",
       "      <td>81</td>\n",
       "      <td>67</td>\n",
       "      <td>75</td>\n",
       "      <td>{'criterion': 'entropy', 'min_samples_split': ...</td>\n",
       "    </tr>\n",
       "    <tr>\n",
       "      <th>2</th>\n",
       "      <td>Random Forest</td>\n",
       "      <td>79</td>\n",
       "      <td>64</td>\n",
       "      <td>73</td>\n",
       "      <td>{'criterion': 'gini', 'min_samples_split': 8, ...</td>\n",
       "    </tr>\n",
       "    <tr>\n",
       "      <th>3</th>\n",
       "      <td>SVM</td>\n",
       "      <td>80</td>\n",
       "      <td>73</td>\n",
       "      <td>78</td>\n",
       "      <td>{'C': 1.25, 'degree': 2, 'kernel': 'poly'}</td>\n",
       "    </tr>\n",
       "    <tr>\n",
       "      <th>4</th>\n",
       "      <td>Bayes</td>\n",
       "      <td>75</td>\n",
       "      <td>69</td>\n",
       "      <td>74</td>\n",
       "      <td>{}</td>\n",
       "    </tr>\n",
       "  </tbody>\n",
       "</table>\n",
       "</div>"
      ],
      "text/plain": [
       "            Algo Accurancy  F1 AUC  \\\n",
       "0            kNN        79  65  74   \n",
       "1  Decision Tree        81  67  75   \n",
       "2  Random Forest        79  64  73   \n",
       "3            SVM        80  73  78   \n",
       "4          Bayes        75  69  74   \n",
       "\n",
       "                                              Params  \n",
       "0  {'algorithm': 'auto', 'metric': 'euclidean', '...  \n",
       "1  {'criterion': 'entropy', 'min_samples_split': ...  \n",
       "2  {'criterion': 'gini', 'min_samples_split': 8, ...  \n",
       "3         {'C': 1.25, 'degree': 2, 'kernel': 'poly'}  \n",
       "4                                                 {}  "
      ]
     },
     "execution_count": 267,
     "metadata": {},
     "output_type": "execute_result"
    }
   ],
   "source": [
    "compare_X5_accuracy"
   ]
  },
  {
   "cell_type": "code",
   "execution_count": 47,
   "metadata": {},
   "outputs": [
    {
     "ename": "NameError",
     "evalue": "name 'compare_x5_F1' is not defined",
     "output_type": "error",
     "traceback": [
      "\u001b[1;31m---------------------------------------------------------------------------\u001b[0m",
      "\u001b[1;31mNameError\u001b[0m                                 Traceback (most recent call last)",
      "\u001b[1;32m<ipython-input-47-f57f4df5880d>\u001b[0m in \u001b[0;36m<module>\u001b[1;34m\u001b[0m\n\u001b[1;32m----> 1\u001b[1;33m \u001b[0mcompare_x5_F1\u001b[0m\u001b[1;33m\u001b[0m\u001b[1;33m\u001b[0m\u001b[0m\n\u001b[0m",
      "\u001b[1;31mNameError\u001b[0m: name 'compare_x5_F1' is not defined"
     ]
    }
   ],
   "source": [
    "compare_x5_F1"
   ]
  },
  {
   "cell_type": "markdown",
   "metadata": {},
   "source": [
    "### Тест Embarked"
   ]
  },
  {
   "cell_type": "markdown",
   "metadata": {},
   "source": [
    "#### With Embarked"
   ]
  },
  {
   "cell_type": "code",
   "execution_count": 50,
   "metadata": {},
   "outputs": [],
   "source": [
    "df_math6 = pd.concat([\n",
    "    df[['SibSp', 'Parch']], \n",
    "    pd.get_dummies(df['Pclass'], prefix='Pclass'), \n",
    "    pd.get_dummies(df['Sex'], prefix='Sex'),\n",
    "    pd.get_dummies(df['Embarked'], prefix='Embarked')\n",
    "], axis=1)\n",
    "\n",
    "X6 = df_math6.values"
   ]
  },
  {
   "cell_type": "code",
   "execution_count": 51,
   "metadata": {},
   "outputs": [
    {
     "name": "stdout",
     "output_type": "stream",
     "text": [
      "kNN testing took 0:00:03.937003\n",
      "Decision Tree testing took 0:00:00.101996\n",
      "Random Forest testing took 0:02:37.737005\n",
      "SVM testing took 0:00:05.448001\n",
      "Bayes testing took 0:00:00.005999\n"
     ]
    },
    {
     "data": {
      "text/html": [
       "<div>\n",
       "<style scoped>\n",
       "    .dataframe tbody tr th:only-of-type {\n",
       "        vertical-align: middle;\n",
       "    }\n",
       "\n",
       "    .dataframe tbody tr th {\n",
       "        vertical-align: top;\n",
       "    }\n",
       "\n",
       "    .dataframe thead th {\n",
       "        text-align: right;\n",
       "    }\n",
       "</style>\n",
       "<table border=\"1\" class=\"dataframe\">\n",
       "  <thead>\n",
       "    <tr style=\"text-align: right;\">\n",
       "      <th></th>\n",
       "      <th>Algo</th>\n",
       "      <th>Accurancy</th>\n",
       "      <th>F1</th>\n",
       "      <th>AUC</th>\n",
       "      <th>Params</th>\n",
       "    </tr>\n",
       "  </thead>\n",
       "  <tbody>\n",
       "    <tr>\n",
       "      <th>0</th>\n",
       "      <td>kNN</td>\n",
       "      <td>77</td>\n",
       "      <td>70</td>\n",
       "      <td>75</td>\n",
       "      <td>{'algorithm': 'auto', 'metric': 'euclidean', '...</td>\n",
       "    </tr>\n",
       "    <tr>\n",
       "      <th>1</th>\n",
       "      <td>Decision Tree</td>\n",
       "      <td>80</td>\n",
       "      <td>72</td>\n",
       "      <td>77</td>\n",
       "      <td>{'criterion': 'gini', 'min_samples_split': 4, ...</td>\n",
       "    </tr>\n",
       "    <tr>\n",
       "      <th>2</th>\n",
       "      <td>Random Forest</td>\n",
       "      <td>80</td>\n",
       "      <td>71</td>\n",
       "      <td>77</td>\n",
       "      <td>{'criterion': 'entropy', 'min_samples_split': ...</td>\n",
       "    </tr>\n",
       "    <tr>\n",
       "      <th>3</th>\n",
       "      <td>SVM</td>\n",
       "      <td>78</td>\n",
       "      <td>70</td>\n",
       "      <td>75</td>\n",
       "      <td>{'C': 0.25, 'degree': 1, 'kernel': 'rbf'}</td>\n",
       "    </tr>\n",
       "    <tr>\n",
       "      <th>4</th>\n",
       "      <td>Bayes</td>\n",
       "      <td>76</td>\n",
       "      <td>69</td>\n",
       "      <td>76</td>\n",
       "      <td>{}</td>\n",
       "    </tr>\n",
       "  </tbody>\n",
       "</table>\n",
       "</div>"
      ],
      "text/plain": [
       "            Algo Accurancy  F1 AUC  \\\n",
       "0            kNN        77  70  75   \n",
       "1  Decision Tree        80  72  77   \n",
       "2  Random Forest        80  71  77   \n",
       "3            SVM        78  70  75   \n",
       "4          Bayes        76  69  76   \n",
       "\n",
       "                                              Params  \n",
       "0  {'algorithm': 'auto', 'metric': 'euclidean', '...  \n",
       "1  {'criterion': 'gini', 'min_samples_split': 4, ...  \n",
       "2  {'criterion': 'entropy', 'min_samples_split': ...  \n",
       "3          {'C': 0.25, 'degree': 1, 'kernel': 'rbf'}  \n",
       "4                                                 {}  "
      ]
     },
     "execution_count": 51,
     "metadata": {},
     "output_type": "execute_result"
    }
   ],
   "source": [
    "compare_models(X6, y, scoring='f1')"
   ]
  },
  {
   "cell_type": "markdown",
   "metadata": {},
   "source": [
    "#### Without Embarked"
   ]
  },
  {
   "cell_type": "code",
   "execution_count": 52,
   "metadata": {},
   "outputs": [],
   "source": [
    "df_math7 = pd.concat([\n",
    "    df[['SibSp', 'Parch']], \n",
    "    pd.get_dummies(df['Pclass'], prefix='Pclass'), \n",
    "    pd.get_dummies(df['Sex'], prefix='Sex')\n",
    "], axis=1)\n",
    "\n",
    "X7 = df_math7.values"
   ]
  },
  {
   "cell_type": "code",
   "execution_count": 53,
   "metadata": {},
   "outputs": [
    {
     "name": "stdout",
     "output_type": "stream",
     "text": [
      "kNN testing took 0:00:03.409000\n",
      "Decision Tree testing took 0:00:00.092026\n",
      "Random Forest testing took 0:02:33.182034\n",
      "SVM testing took 0:00:06.180005\n",
      "Bayes testing took 0:00:00.005998\n"
     ]
    },
    {
     "data": {
      "text/html": [
       "<div>\n",
       "<style scoped>\n",
       "    .dataframe tbody tr th:only-of-type {\n",
       "        vertical-align: middle;\n",
       "    }\n",
       "\n",
       "    .dataframe tbody tr th {\n",
       "        vertical-align: top;\n",
       "    }\n",
       "\n",
       "    .dataframe thead th {\n",
       "        text-align: right;\n",
       "    }\n",
       "</style>\n",
       "<table border=\"1\" class=\"dataframe\">\n",
       "  <thead>\n",
       "    <tr style=\"text-align: right;\">\n",
       "      <th></th>\n",
       "      <th>Algo</th>\n",
       "      <th>Accurancy</th>\n",
       "      <th>F1</th>\n",
       "      <th>AUC</th>\n",
       "      <th>Params</th>\n",
       "    </tr>\n",
       "  </thead>\n",
       "  <tbody>\n",
       "    <tr>\n",
       "      <th>0</th>\n",
       "      <td>kNN</td>\n",
       "      <td>78</td>\n",
       "      <td>70</td>\n",
       "      <td>75</td>\n",
       "      <td>{'algorithm': 'auto', 'metric': 'manhattan', '...</td>\n",
       "    </tr>\n",
       "    <tr>\n",
       "      <th>1</th>\n",
       "      <td>Decision Tree</td>\n",
       "      <td>79</td>\n",
       "      <td>68</td>\n",
       "      <td>75</td>\n",
       "      <td>{'criterion': 'entropy', 'min_samples_split': ...</td>\n",
       "    </tr>\n",
       "    <tr>\n",
       "      <th>2</th>\n",
       "      <td>Random Forest</td>\n",
       "      <td>76</td>\n",
       "      <td>68</td>\n",
       "      <td>74</td>\n",
       "      <td>{'criterion': 'gini', 'min_samples_split': 4, ...</td>\n",
       "    </tr>\n",
       "    <tr>\n",
       "      <th>3</th>\n",
       "      <td>SVM</td>\n",
       "      <td>80</td>\n",
       "      <td>74</td>\n",
       "      <td>78</td>\n",
       "      <td>{'C': 0.25, 'degree': 1, 'kernel': 'linear'}</td>\n",
       "    </tr>\n",
       "    <tr>\n",
       "      <th>4</th>\n",
       "      <td>Bayes</td>\n",
       "      <td>85</td>\n",
       "      <td>80</td>\n",
       "      <td>84</td>\n",
       "      <td>{}</td>\n",
       "    </tr>\n",
       "  </tbody>\n",
       "</table>\n",
       "</div>"
      ],
      "text/plain": [
       "            Algo Accurancy  F1 AUC  \\\n",
       "0            kNN        78  70  75   \n",
       "1  Decision Tree        79  68  75   \n",
       "2  Random Forest        76  68  74   \n",
       "3            SVM        80  74  78   \n",
       "4          Bayes        85  80  84   \n",
       "\n",
       "                                              Params  \n",
       "0  {'algorithm': 'auto', 'metric': 'manhattan', '...  \n",
       "1  {'criterion': 'entropy', 'min_samples_split': ...  \n",
       "2  {'criterion': 'gini', 'min_samples_split': 4, ...  \n",
       "3       {'C': 0.25, 'degree': 1, 'kernel': 'linear'}  \n",
       "4                                                 {}  "
      ]
     },
     "execution_count": 53,
     "metadata": {},
     "output_type": "execute_result"
    }
   ],
   "source": [
    "compare_models(X7, y, scoring='f1')"
   ]
  },
  {
   "cell_type": "markdown",
   "metadata": {},
   "source": [
    "## Тестирование алгоритмов"
   ]
  },
  {
   "cell_type": "markdown",
   "metadata": {},
   "source": [
    "### Проверка Байеса"
   ]
  },
  {
   "cell_type": "code",
   "execution_count": 70,
   "metadata": {},
   "outputs": [
    {
     "data": {
      "text/plain": [
       "array([1, 0, 0, 0, 1, 0, 1], dtype=int64)"
      ]
     },
     "execution_count": 70,
     "metadata": {},
     "output_type": "execute_result"
    }
   ],
   "source": [
    "X7[0]"
   ]
  },
  {
   "cell_type": "code",
   "execution_count": 71,
   "metadata": {},
   "outputs": [
    {
     "data": {
      "text/plain": [
       "array([[56.,  0.,  0., ...,  1.,  0.,  0.],\n",
       "       [50.,  0.,  1., ...,  1.,  0.,  0.],\n",
       "       [65.,  0.,  0., ...,  0.,  0.,  1.],\n",
       "       ...,\n",
       "       [61.,  0.,  0., ...,  0.,  0.,  1.],\n",
       "       [18.,  0.,  0., ...,  0.,  0.,  1.],\n",
       "       [32.,  0.,  0., ...,  0.,  0.,  1.]])"
      ]
     },
     "execution_count": 71,
     "metadata": {},
     "output_type": "execute_result"
    }
   ],
   "source": [
    "X_test"
   ]
  },
  {
   "cell_type": "code",
   "execution_count": 78,
   "metadata": {},
   "outputs": [
    {
     "name": "stdout",
     "output_type": "stream",
     "text": [
      "Accuracy=79, F1=72, AUC=77\n",
      "Accuracy=75, F1=70, AUC=74\n",
      "Accuracy=78, F1=71, AUC=77\n",
      "Accuracy=79, F1=71, AUC=77\n",
      "Accuracy=75, F1=66, AUC=74\n",
      "Accuracy=78, F1=68, AUC=75\n",
      "Accuracy=78, F1=71, AUC=76\n",
      "Accuracy=79, F1=70, AUC=76\n",
      "Accuracy=81, F1=74, AUC=79\n",
      "Accuracy=79, F1=72, AUC=77\n"
     ]
    }
   ],
   "source": [
    "for i in range(10):\n",
    "    b_accuracy, b_f1, b_auc, b_conf = bayes_test(X7, y)\n",
    "    print('Accuracy={}, F1={}, AUC={}'.format(b_accuracy, b_f1, b_auc))"
   ]
  },
  {
   "cell_type": "code",
   "execution_count": 79,
   "metadata": {},
   "outputs": [
    {
     "name": "stdout",
     "output_type": "stream",
     "text": [
      "Accuracy=74, F1=66, AUC=73\n",
      "Accuracy=79, F1=71, AUC=77\n",
      "Accuracy=74, F1=67, AUC=73\n",
      "Accuracy=76, F1=66, AUC=73\n",
      "Accuracy=81, F1=72, AUC=78\n",
      "Accuracy=76, F1=64, AUC=72\n",
      "Accuracy=83, F1=76, AUC=81\n",
      "Accuracy=78, F1=67, AUC=74\n",
      "Accuracy=78, F1=68, AUC=75\n",
      "Accuracy=82, F1=73, AUC=79\n"
     ]
    }
   ],
   "source": [
    "for i in range(10):\n",
    "    b_accuracy, b_f1, b_auc, b_conf = knn_test(X7, y)\n",
    "    print('Accuracy={}, F1={}, AUC={}'.format(b_accuracy, b_f1, b_auc))"
   ]
  },
  {
   "cell_type": "code",
   "execution_count": 80,
   "metadata": {},
   "outputs": [
    {
     "name": "stdout",
     "output_type": "stream",
     "text": [
      "Accuracy=74, F1=58, AUC=69\n",
      "Accuracy=81, F1=71, AUC=77\n",
      "Accuracy=81, F1=71, AUC=79\n",
      "Accuracy=79, F1=70, AUC=76\n",
      "Accuracy=81, F1=72, AUC=78\n",
      "Accuracy=78, F1=71, AUC=76\n",
      "Accuracy=79, F1=70, AUC=76\n",
      "Accuracy=79, F1=73, AUC=78\n",
      "Accuracy=74, F1=60, AUC=70\n",
      "Accuracy=78, F1=62, AUC=72\n"
     ]
    }
   ],
   "source": [
    "for i in range(10):\n",
    "    b_accuracy, b_f1, b_auc, b_conf = dt_test(X7, y)\n",
    "    print('Accuracy={}, F1={}, AUC={}'.format(b_accuracy, b_f1, b_auc))"
   ]
  },
  {
   "cell_type": "code",
   "execution_count": 81,
   "metadata": {},
   "outputs": [
    {
     "name": "stdout",
     "output_type": "stream",
     "text": [
      "Accuracy=78, F1=69, AUC=76\n",
      "Accuracy=78, F1=73, AUC=77\n",
      "Accuracy=81, F1=75, AUC=79\n",
      "Accuracy=82, F1=71, AUC=78\n",
      "Accuracy=77, F1=64, AUC=72\n",
      "Accuracy=78, F1=67, AUC=74\n",
      "Accuracy=78, F1=71, AUC=76\n",
      "Accuracy=78, F1=70, AUC=76\n",
      "Accuracy=78, F1=69, AUC=75\n",
      "Accuracy=78, F1=70, AUC=76\n"
     ]
    }
   ],
   "source": [
    "for i in range(10):\n",
    "    b_accuracy, b_f1, b_auc, b_conf = rf_test(X7, y)\n",
    "    print('Accuracy={}, F1={}, AUC={}'.format(b_accuracy, b_f1, b_auc))"
   ]
  },
  {
   "cell_type": "code",
   "execution_count": 83,
   "metadata": {},
   "outputs": [
    {
     "name": "stdout",
     "output_type": "stream",
     "text": [
      "Accuracy=80, F1=69, AUC=76, config={'C': 2.5, 'degree': 1, 'kernel': 'rbf'}\n",
      "Accuracy=77, F1=70, AUC=75, config={'C': 2.25, 'degree': 2, 'kernel': 'poly'}\n",
      "Accuracy=79, F1=68, AUC=76, config={'C': 0.25, 'degree': 2, 'kernel': 'poly'}\n",
      "Accuracy=80, F1=72, AUC=77, config={'C': 0.5, 'degree': 1, 'kernel': 'rbf'}\n",
      "Accuracy=76, F1=69, AUC=75, config={'C': 1.0, 'degree': 2, 'kernel': 'poly'}\n",
      "Accuracy=79, F1=72, AUC=77, config={'C': 0.5, 'degree': 2, 'kernel': 'poly'}\n",
      "Accuracy=80, F1=75, AUC=79, config={'C': 0.25, 'degree': 1, 'kernel': 'rbf'}\n",
      "Accuracy=77, F1=70, AUC=76, config={'C': 1.5, 'degree': 3, 'kernel': 'poly'}\n",
      "Accuracy=81, F1=76, AUC=80, config={'C': 0.75, 'degree': 2, 'kernel': 'poly'}\n",
      "Accuracy=77, F1=69, AUC=75, config={'C': 0.75, 'degree': 3, 'kernel': 'poly'}\n"
     ]
    }
   ],
   "source": [
    "for i in range(10): \n",
    "    b_accuracy, b_f1, b_auc, b_conf = svm_test(X7, y, scoring='f1')\n",
    "    print('Accuracy={}, F1={}, AUC={}, config={}'.format(b_accuracy, b_f1, b_auc, b_conf))"
   ]
  },
  {
   "cell_type": "code",
   "execution_count": 84,
   "metadata": {},
   "outputs": [
    {
     "name": "stdout",
     "output_type": "stream",
     "text": [
      "Accuracy=83, F1=74, AUC=80, config={'C': 0.25, 'degree': 2, 'kernel': 'poly'}\n",
      "Accuracy=81, F1=74, AUC=79, config={'C': 0.25, 'degree': 2, 'kernel': 'poly'}\n",
      "Accuracy=78, F1=69, AUC=75, config={'C': 0.5, 'degree': 2, 'kernel': 'poly'}\n",
      "Accuracy=80, F1=71, AUC=77, config={'C': 1.5, 'degree': 3, 'kernel': 'poly'}\n",
      "Accuracy=83, F1=76, AUC=80, config={'C': 0.25, 'degree': 2, 'kernel': 'poly'}\n",
      "Accuracy=78, F1=69, AUC=75, config={'C': 0.25, 'degree': 2, 'kernel': 'poly'}\n",
      "Accuracy=80, F1=75, AUC=79, config={'C': 0.25, 'degree': 2, 'kernel': 'poly'}\n",
      "Accuracy=77, F1=69, AUC=75, config={'C': 0.5, 'degree': 2, 'kernel': 'poly'}\n",
      "Accuracy=82, F1=75, AUC=80, config={'C': 1.5, 'degree': 1, 'kernel': 'rbf'}\n",
      "Accuracy=79, F1=69, AUC=76, config={'C': 0.25, 'degree': 2, 'kernel': 'poly'}\n"
     ]
    }
   ],
   "source": [
    "for i in range(10): \n",
    "    b_accuracy, b_f1, b_auc, b_conf = svm_test(X7, y, scoring='accuracy')\n",
    "    print('Accuracy={}, F1={}, AUC={}, config={}'.format(b_accuracy, b_f1, b_auc, b_conf))"
   ]
  },
  {
   "cell_type": "code",
   "execution_count": 87,
   "metadata": {},
   "outputs": [
    {
     "name": "stdout",
     "output_type": "stream",
     "text": [
      "Accuracy=83, F1=76, AUC=81, config={'C': 2.75, 'degree': 2, 'kernel': 'poly'}\n",
      "Accuracy=79, F1=72, AUC=77, config={'C': 0.5, 'degree': 2, 'kernel': 'poly'}\n",
      "Accuracy=83, F1=75, AUC=81, config={'C': 1.0, 'degree': 2, 'kernel': 'poly'}\n",
      "Accuracy=81, F1=71, AUC=77, config={'C': 1.5, 'degree': 2, 'kernel': 'poly'}\n",
      "Accuracy=77, F1=66, AUC=73, config={'C': 1.75, 'degree': 2, 'kernel': 'poly'}\n",
      "Accuracy=81, F1=73, AUC=79, config={'C': 0.25, 'degree': 2, 'kernel': 'poly'}\n",
      "Accuracy=82, F1=71, AUC=78, config={'C': 1.75, 'degree': 2, 'kernel': 'poly'}\n",
      "Accuracy=78, F1=68, AUC=75, config={'C': 1.75, 'degree': 1, 'kernel': 'poly'}\n",
      "Accuracy=76, F1=67, AUC=74, config={'C': 0.25, 'degree': 2, 'kernel': 'poly'}\n",
      "Accuracy=77, F1=67, AUC=74, config={'C': 1.75, 'degree': 2, 'kernel': 'poly'}\n"
     ]
    }
   ],
   "source": [
    "for i in range(10): \n",
    "    b_accuracy, b_f1, b_auc, b_conf = svm_test(X7, y, scoring='roc_auc')\n",
    "    print('Accuracy={}, F1={}, AUC={}, config={}'.format(b_accuracy, b_f1, b_auc, b_conf))"
   ]
  },
  {
   "cell_type": "markdown",
   "metadata": {},
   "source": [
    "Algo:SVM\n",
    "\n",
    "Accuracy=83, F1=76, AUC=80, config={'C': 0.25, 'degree': 2, 'kernel': 'poly'}"
   ]
  },
  {
   "cell_type": "markdown",
   "metadata": {},
   "source": [
    "## Обучение модели"
   ]
  },
  {
   "cell_type": "code",
   "execution_count": 89,
   "metadata": {},
   "outputs": [
    {
     "data": {
      "text/plain": [
       "SVC(C=0.25, degree=2, kernel='poly')"
      ]
     },
     "execution_count": 89,
     "metadata": {},
     "output_type": "execute_result"
    }
   ],
   "source": [
    "model = SVC(C=0.25, degree=2, kernel='poly')\n",
    "model.fit(X7, y)"
   ]
  },
  {
   "cell_type": "code",
   "execution_count": 4,
   "metadata": {},
   "outputs": [],
   "source": [
    "df_test = pd.read_csv('test.csv', index_col='PassengerId')"
   ]
  },
  {
   "cell_type": "code",
   "execution_count": 91,
   "metadata": {},
   "outputs": [
    {
     "name": "stdout",
     "output_type": "stream",
     "text": [
      "<class 'pandas.core.frame.DataFrame'>\n",
      "Int64Index: 418 entries, 892 to 1309\n",
      "Data columns (total 10 columns):\n",
      " #   Column    Non-Null Count  Dtype  \n",
      "---  ------    --------------  -----  \n",
      " 0   Pclass    418 non-null    int64  \n",
      " 1   Name      418 non-null    object \n",
      " 2   Sex       418 non-null    object \n",
      " 3   Age       332 non-null    float64\n",
      " 4   SibSp     418 non-null    int64  \n",
      " 5   Parch     418 non-null    int64  \n",
      " 6   Ticket    418 non-null    object \n",
      " 7   Fare      417 non-null    float64\n",
      " 8   Cabin     91 non-null     object \n",
      " 9   Embarked  418 non-null    object \n",
      "dtypes: float64(2), int64(3), object(5)\n",
      "memory usage: 35.9+ KB\n"
     ]
    }
   ],
   "source": [
    "df_test.info(0)"
   ]
  },
  {
   "cell_type": "code",
   "execution_count": 92,
   "metadata": {},
   "outputs": [
    {
     "data": {
      "text/plain": [
       "Pclass        0\n",
       "Name          0\n",
       "Sex           0\n",
       "Age          86\n",
       "SibSp         0\n",
       "Parch         0\n",
       "Ticket        0\n",
       "Fare          1\n",
       "Cabin       327\n",
       "Embarked      0\n",
       "dtype: int64"
      ]
     },
     "execution_count": 92,
     "metadata": {},
     "output_type": "execute_result"
    }
   ],
   "source": [
    "df_test.isna().sum()"
   ]
  },
  {
   "cell_type": "code",
   "execution_count": 5,
   "metadata": {},
   "outputs": [],
   "source": [
    "df_test_math7 = pd.concat([\n",
    "    df_test[['SibSp', 'Parch']], \n",
    "    pd.get_dummies(df_test['Pclass'], prefix='Pclass'), \n",
    "    pd.get_dummies(df_test['Sex'], prefix='Sex')\n",
    "], axis=1)\n",
    "\n",
    "X7_test = df_test_math7.values"
   ]
  },
  {
   "cell_type": "code",
   "execution_count": 6,
   "metadata": {},
   "outputs": [
    {
     "data": {
      "text/html": [
       "<div>\n",
       "<style scoped>\n",
       "    .dataframe tbody tr th:only-of-type {\n",
       "        vertical-align: middle;\n",
       "    }\n",
       "\n",
       "    .dataframe tbody tr th {\n",
       "        vertical-align: top;\n",
       "    }\n",
       "\n",
       "    .dataframe thead th {\n",
       "        text-align: right;\n",
       "    }\n",
       "</style>\n",
       "<table border=\"1\" class=\"dataframe\">\n",
       "  <thead>\n",
       "    <tr style=\"text-align: right;\">\n",
       "      <th></th>\n",
       "      <th>SibSp</th>\n",
       "      <th>Parch</th>\n",
       "      <th>Pclass_1</th>\n",
       "      <th>Pclass_2</th>\n",
       "      <th>Pclass_3</th>\n",
       "      <th>Sex_female</th>\n",
       "      <th>Sex_male</th>\n",
       "    </tr>\n",
       "    <tr>\n",
       "      <th>PassengerId</th>\n",
       "      <th></th>\n",
       "      <th></th>\n",
       "      <th></th>\n",
       "      <th></th>\n",
       "      <th></th>\n",
       "      <th></th>\n",
       "      <th></th>\n",
       "    </tr>\n",
       "  </thead>\n",
       "  <tbody>\n",
       "    <tr>\n",
       "      <th>892</th>\n",
       "      <td>0</td>\n",
       "      <td>0</td>\n",
       "      <td>0</td>\n",
       "      <td>0</td>\n",
       "      <td>1</td>\n",
       "      <td>0</td>\n",
       "      <td>1</td>\n",
       "    </tr>\n",
       "    <tr>\n",
       "      <th>893</th>\n",
       "      <td>1</td>\n",
       "      <td>0</td>\n",
       "      <td>0</td>\n",
       "      <td>0</td>\n",
       "      <td>1</td>\n",
       "      <td>1</td>\n",
       "      <td>0</td>\n",
       "    </tr>\n",
       "    <tr>\n",
       "      <th>894</th>\n",
       "      <td>0</td>\n",
       "      <td>0</td>\n",
       "      <td>0</td>\n",
       "      <td>1</td>\n",
       "      <td>0</td>\n",
       "      <td>0</td>\n",
       "      <td>1</td>\n",
       "    </tr>\n",
       "    <tr>\n",
       "      <th>895</th>\n",
       "      <td>0</td>\n",
       "      <td>0</td>\n",
       "      <td>0</td>\n",
       "      <td>0</td>\n",
       "      <td>1</td>\n",
       "      <td>0</td>\n",
       "      <td>1</td>\n",
       "    </tr>\n",
       "    <tr>\n",
       "      <th>896</th>\n",
       "      <td>1</td>\n",
       "      <td>1</td>\n",
       "      <td>0</td>\n",
       "      <td>0</td>\n",
       "      <td>1</td>\n",
       "      <td>1</td>\n",
       "      <td>0</td>\n",
       "    </tr>\n",
       "    <tr>\n",
       "      <th>...</th>\n",
       "      <td>...</td>\n",
       "      <td>...</td>\n",
       "      <td>...</td>\n",
       "      <td>...</td>\n",
       "      <td>...</td>\n",
       "      <td>...</td>\n",
       "      <td>...</td>\n",
       "    </tr>\n",
       "    <tr>\n",
       "      <th>1305</th>\n",
       "      <td>0</td>\n",
       "      <td>0</td>\n",
       "      <td>0</td>\n",
       "      <td>0</td>\n",
       "      <td>1</td>\n",
       "      <td>0</td>\n",
       "      <td>1</td>\n",
       "    </tr>\n",
       "    <tr>\n",
       "      <th>1306</th>\n",
       "      <td>0</td>\n",
       "      <td>0</td>\n",
       "      <td>1</td>\n",
       "      <td>0</td>\n",
       "      <td>0</td>\n",
       "      <td>1</td>\n",
       "      <td>0</td>\n",
       "    </tr>\n",
       "    <tr>\n",
       "      <th>1307</th>\n",
       "      <td>0</td>\n",
       "      <td>0</td>\n",
       "      <td>0</td>\n",
       "      <td>0</td>\n",
       "      <td>1</td>\n",
       "      <td>0</td>\n",
       "      <td>1</td>\n",
       "    </tr>\n",
       "    <tr>\n",
       "      <th>1308</th>\n",
       "      <td>0</td>\n",
       "      <td>0</td>\n",
       "      <td>0</td>\n",
       "      <td>0</td>\n",
       "      <td>1</td>\n",
       "      <td>0</td>\n",
       "      <td>1</td>\n",
       "    </tr>\n",
       "    <tr>\n",
       "      <th>1309</th>\n",
       "      <td>1</td>\n",
       "      <td>1</td>\n",
       "      <td>0</td>\n",
       "      <td>0</td>\n",
       "      <td>1</td>\n",
       "      <td>0</td>\n",
       "      <td>1</td>\n",
       "    </tr>\n",
       "  </tbody>\n",
       "</table>\n",
       "<p>418 rows × 7 columns</p>\n",
       "</div>"
      ],
      "text/plain": [
       "             SibSp  Parch  Pclass_1  Pclass_2  Pclass_3  Sex_female  Sex_male\n",
       "PassengerId                                                                  \n",
       "892              0      0         0         0         1           0         1\n",
       "893              1      0         0         0         1           1         0\n",
       "894              0      0         0         1         0           0         1\n",
       "895              0      0         0         0         1           0         1\n",
       "896              1      1         0         0         1           1         0\n",
       "...            ...    ...       ...       ...       ...         ...       ...\n",
       "1305             0      0         0         0         1           0         1\n",
       "1306             0      0         1         0         0           1         0\n",
       "1307             0      0         0         0         1           0         1\n",
       "1308             0      0         0         0         1           0         1\n",
       "1309             1      1         0         0         1           0         1\n",
       "\n",
       "[418 rows x 7 columns]"
      ]
     },
     "execution_count": 6,
     "metadata": {},
     "output_type": "execute_result"
    }
   ],
   "source": [
    "df_test_math7"
   ]
  },
  {
   "cell_type": "code",
   "execution_count": 95,
   "metadata": {},
   "outputs": [],
   "source": [
    "y_predict = model.predict(X7_test)"
   ]
  },
  {
   "cell_type": "code",
   "execution_count": 98,
   "metadata": {},
   "outputs": [],
   "source": [
    "df_result = df_test_math7.copy()\n",
    "df_result.drop(df_test_math7.columns, axis=1, inplace=True)\n",
    "df_result['Survived'] = y_predict"
   ]
  },
  {
   "cell_type": "code",
   "execution_count": 100,
   "metadata": {},
   "outputs": [],
   "source": [
    "df_result.to_csv('result.csv')"
   ]
  },
  {
   "cell_type": "markdown",
   "metadata": {},
   "source": [
    "## Dumping the model"
   ]
  },
  {
   "cell_type": "code",
   "execution_count": 101,
   "metadata": {},
   "outputs": [],
   "source": [
    "with open('model.pkl', 'wb') as f:\n",
    "    pickle.dump(model, f)"
   ]
  }
 ],
 "metadata": {
  "kernelspec": {
   "display_name": "Python 3",
   "language": "python",
   "name": "python3"
  },
  "language_info": {
   "codemirror_mode": {
    "name": "ipython",
    "version": 3
   },
   "file_extension": ".py",
   "mimetype": "text/x-python",
   "name": "python",
   "nbconvert_exporter": "python",
   "pygments_lexer": "ipython3",
   "version": "3.8.5"
  }
 },
 "nbformat": 4,
 "nbformat_minor": 4
}
